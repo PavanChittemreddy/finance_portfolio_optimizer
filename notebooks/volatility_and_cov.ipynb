{
 "cells": [
  {
   "cell_type": "code",
   "execution_count": 2,
   "id": "7c55307a-1939-4dec-b9f9-eea1d6ab407e",
   "metadata": {},
   "outputs": [
    {
     "name": "stdout",
     "output_type": "stream",
     "text": [
      "Requirement already satisfied: kaleido in c:\\users\\pavan\\appdata\\local\\programs\\python\\python313\\lib\\site-packages (1.0.0)\n",
      "Requirement already satisfied: choreographer>=1.0.5 in c:\\users\\pavan\\appdata\\local\\programs\\python\\python313\\lib\\site-packages (from kaleido) (1.0.9)\n",
      "Requirement already satisfied: logistro>=1.0.8 in c:\\users\\pavan\\appdata\\local\\programs\\python\\python313\\lib\\site-packages (from kaleido) (1.1.0)\n",
      "Requirement already satisfied: orjson>=3.10.15 in c:\\users\\pavan\\appdata\\local\\programs\\python\\python313\\lib\\site-packages (from kaleido) (3.11.1)\n",
      "Requirement already satisfied: packaging in c:\\users\\pavan\\appdata\\local\\programs\\python\\python313\\lib\\site-packages (from kaleido) (25.0)\n",
      "Requirement already satisfied: simplejson>=3.19.3 in c:\\users\\pavan\\appdata\\local\\programs\\python\\python313\\lib\\site-packages (from choreographer>=1.0.5->kaleido) (3.20.1)\n"
     ]
    }
   ],
   "source": [
    "\n",
    "!pip install --upgrade kaleido\n"
   ]
  },
  {
   "cell_type": "code",
   "execution_count": 3,
   "id": "f23379ec-e708-404f-b09e-7b09953eefaa",
   "metadata": {},
   "outputs": [
    {
     "name": "stdout",
     "output_type": "stream",
     "text": [
      "Requirement already satisfied: pip in c:\\users\\pavan\\appdata\\local\\programs\\python\\python313\\lib\\site-packages (25.2)\n",
      "Note: you may need to restart the kernel to use updated packages.\n"
     ]
    }
   ],
   "source": [
    "pip install --upgrade pip"
   ]
  },
  {
   "cell_type": "code",
   "execution_count": 14,
   "id": "ccd27ce3-5b0c-48a0-a2d2-851aeb29d48e",
   "metadata": {},
   "outputs": [],
   "source": [
    "# ─── Cell 1: Imports & folders ───\n",
    "import os\n",
    "import pandas as pd\n",
    "import numpy as np\n",
    "import plotly.express as px\n",
    "\n",
    "# Make sure our images folder lives at the project root\n",
    "os.makedirs(\"../images\", exist_ok=True)\n",
    "\n"
   ]
  },
  {
   "cell_type": "code",
   "execution_count": 20,
   "id": "296a75a5-d53f-42e3-92d2-63c9b48e360d",
   "metadata": {},
   "outputs": [
    {
     "name": "stdout",
     "output_type": "stream",
     "text": [
      "✅ Cleaned DF shape: (270, 5)\n"
     ]
    },
    {
     "data": {
      "text/html": [
       "<div>\n",
       "<style scoped>\n",
       "    .dataframe tbody tr th:only-of-type {\n",
       "        vertical-align: middle;\n",
       "    }\n",
       "\n",
       "    .dataframe tbody tr th {\n",
       "        vertical-align: top;\n",
       "    }\n",
       "\n",
       "    .dataframe thead th {\n",
       "        text-align: right;\n",
       "    }\n",
       "</style>\n",
       "<table border=\"1\" class=\"dataframe\">\n",
       "  <thead>\n",
       "    <tr style=\"text-align: right;\">\n",
       "      <th></th>\n",
       "      <th>AAPL</th>\n",
       "      <th>AMZN</th>\n",
       "      <th>GOOGL</th>\n",
       "      <th>MSFT</th>\n",
       "      <th>TSLA</th>\n",
       "    </tr>\n",
       "    <tr>\n",
       "      <th>Date</th>\n",
       "      <th></th>\n",
       "      <th></th>\n",
       "      <th></th>\n",
       "      <th></th>\n",
       "      <th></th>\n",
       "    </tr>\n",
       "  </thead>\n",
       "  <tbody>\n",
       "    <tr>\n",
       "      <th>2024-07-01</th>\n",
       "      <td>216.750000</td>\n",
       "      <td>197.199997</td>\n",
       "      <td>182.990005</td>\n",
       "      <td>456.730011</td>\n",
       "      <td>209.860001</td>\n",
       "    </tr>\n",
       "    <tr>\n",
       "      <th>2024-07-02</th>\n",
       "      <td>220.270004</td>\n",
       "      <td>200.000000</td>\n",
       "      <td>185.240005</td>\n",
       "      <td>459.279999</td>\n",
       "      <td>231.259995</td>\n",
       "    </tr>\n",
       "    <tr>\n",
       "      <th>2024-07-03</th>\n",
       "      <td>221.550003</td>\n",
       "      <td>197.589996</td>\n",
       "      <td>185.820007</td>\n",
       "      <td>460.769989</td>\n",
       "      <td>246.389999</td>\n",
       "    </tr>\n",
       "    <tr>\n",
       "      <th>2024-07-05</th>\n",
       "      <td>226.339996</td>\n",
       "      <td>200.000000</td>\n",
       "      <td>190.600006</td>\n",
       "      <td>467.559998</td>\n",
       "      <td>251.520004</td>\n",
       "    </tr>\n",
       "    <tr>\n",
       "      <th>2024-07-08</th>\n",
       "      <td>227.820007</td>\n",
       "      <td>199.289993</td>\n",
       "      <td>189.029999</td>\n",
       "      <td>466.239990</td>\n",
       "      <td>252.940002</td>\n",
       "    </tr>\n",
       "  </tbody>\n",
       "</table>\n",
       "</div>"
      ],
      "text/plain": [
       "                  AAPL        AMZN       GOOGL        MSFT        TSLA\n",
       "Date                                                                  \n",
       "2024-07-01  216.750000  197.199997  182.990005  456.730011  209.860001\n",
       "2024-07-02  220.270004  200.000000  185.240005  459.279999  231.259995\n",
       "2024-07-03  221.550003  197.589996  185.820007  460.769989  246.389999\n",
       "2024-07-05  226.339996  200.000000  190.600006  467.559998  251.520004\n",
       "2024-07-08  227.820007  199.289993  189.029999  466.239990  252.940002"
      ]
     },
     "execution_count": 20,
     "metadata": {},
     "output_type": "execute_result"
    }
   ],
   "source": [
    "\n",
    "# Load the CSV\n",
    "df = pd.read_csv(\n",
    "    \"data/close_prices.csv\",\n",
    "    index_col=\"Date\",\n",
    "    parse_dates=True\n",
    ")\n",
    "\n",
    "# 1) Back-fill any leading NaNs (some tickers start later)\n",
    "# 2) Forward-fill to cover any gaps\n",
    "# 3) Drop any rows still containing NaN\n",
    "df = df.bfill().ffill().dropna()\n",
    "\n",
    "print(\"✅ Cleaned DF shape:\", df.shape)\n",
    "df.head()\n"
   ]
  },
  {
   "cell_type": "code",
   "execution_count": 22,
   "id": "7fd36df4-0e67-4a5e-9631-b9148fb3a4b6",
   "metadata": {},
   "outputs": [
    {
     "name": "stdout",
     "output_type": "stream",
     "text": [
      "Annual volatility (%) for each ticker:\n",
      " AAPL     31.137665\n",
      "AMZN     33.595590\n",
      "GOOGL    31.259647\n",
      "MSFT     24.698028\n",
      "TSLA     73.355964\n",
      "dtype: float64\n"
     ]
    },
    {
     "data": {
      "application/vnd.plotly.v1+json": {
       "config": {
        "plotlyServerURL": "https://plot.ly"
       },
       "data": [
        {
         "hovertemplate": "Ticker=%{x}<br>Annual Volatility (%)=%{y}<extra></extra>",
         "legendgroup": "",
         "marker": {
          "color": "#636efa",
          "pattern": {
           "shape": ""
          }
         },
         "name": "",
         "orientation": "v",
         "showlegend": false,
         "textposition": "auto",
         "type": "bar",
         "x": [
          "AAPL",
          "AMZN",
          "GOOGL",
          "MSFT",
          "TSLA"
         ],
         "xaxis": "x",
         "y": {
          "bdata": "COMS+z0jP0CtVhBKPMxAQGi+jDJ4Qj9AUGS+/rGyOEB1hGQeyFZSQA==",
          "dtype": "f8"
         },
         "yaxis": "y"
        }
       ],
       "layout": {
        "barmode": "relative",
        "legend": {
         "tracegroupgap": 0
        },
        "template": {
         "data": {
          "bar": [
           {
            "error_x": {
             "color": "#2a3f5f"
            },
            "error_y": {
             "color": "#2a3f5f"
            },
            "marker": {
             "line": {
              "color": "#E5ECF6",
              "width": 0.5
             },
             "pattern": {
              "fillmode": "overlay",
              "size": 10,
              "solidity": 0.2
             }
            },
            "type": "bar"
           }
          ],
          "barpolar": [
           {
            "marker": {
             "line": {
              "color": "#E5ECF6",
              "width": 0.5
             },
             "pattern": {
              "fillmode": "overlay",
              "size": 10,
              "solidity": 0.2
             }
            },
            "type": "barpolar"
           }
          ],
          "carpet": [
           {
            "aaxis": {
             "endlinecolor": "#2a3f5f",
             "gridcolor": "white",
             "linecolor": "white",
             "minorgridcolor": "white",
             "startlinecolor": "#2a3f5f"
            },
            "baxis": {
             "endlinecolor": "#2a3f5f",
             "gridcolor": "white",
             "linecolor": "white",
             "minorgridcolor": "white",
             "startlinecolor": "#2a3f5f"
            },
            "type": "carpet"
           }
          ],
          "choropleth": [
           {
            "colorbar": {
             "outlinewidth": 0,
             "ticks": ""
            },
            "type": "choropleth"
           }
          ],
          "contour": [
           {
            "colorbar": {
             "outlinewidth": 0,
             "ticks": ""
            },
            "colorscale": [
             [
              0,
              "#0d0887"
             ],
             [
              0.1111111111111111,
              "#46039f"
             ],
             [
              0.2222222222222222,
              "#7201a8"
             ],
             [
              0.3333333333333333,
              "#9c179e"
             ],
             [
              0.4444444444444444,
              "#bd3786"
             ],
             [
              0.5555555555555556,
              "#d8576b"
             ],
             [
              0.6666666666666666,
              "#ed7953"
             ],
             [
              0.7777777777777778,
              "#fb9f3a"
             ],
             [
              0.8888888888888888,
              "#fdca26"
             ],
             [
              1,
              "#f0f921"
             ]
            ],
            "type": "contour"
           }
          ],
          "contourcarpet": [
           {
            "colorbar": {
             "outlinewidth": 0,
             "ticks": ""
            },
            "type": "contourcarpet"
           }
          ],
          "heatmap": [
           {
            "colorbar": {
             "outlinewidth": 0,
             "ticks": ""
            },
            "colorscale": [
             [
              0,
              "#0d0887"
             ],
             [
              0.1111111111111111,
              "#46039f"
             ],
             [
              0.2222222222222222,
              "#7201a8"
             ],
             [
              0.3333333333333333,
              "#9c179e"
             ],
             [
              0.4444444444444444,
              "#bd3786"
             ],
             [
              0.5555555555555556,
              "#d8576b"
             ],
             [
              0.6666666666666666,
              "#ed7953"
             ],
             [
              0.7777777777777778,
              "#fb9f3a"
             ],
             [
              0.8888888888888888,
              "#fdca26"
             ],
             [
              1,
              "#f0f921"
             ]
            ],
            "type": "heatmap"
           }
          ],
          "histogram": [
           {
            "marker": {
             "pattern": {
              "fillmode": "overlay",
              "size": 10,
              "solidity": 0.2
             }
            },
            "type": "histogram"
           }
          ],
          "histogram2d": [
           {
            "colorbar": {
             "outlinewidth": 0,
             "ticks": ""
            },
            "colorscale": [
             [
              0,
              "#0d0887"
             ],
             [
              0.1111111111111111,
              "#46039f"
             ],
             [
              0.2222222222222222,
              "#7201a8"
             ],
             [
              0.3333333333333333,
              "#9c179e"
             ],
             [
              0.4444444444444444,
              "#bd3786"
             ],
             [
              0.5555555555555556,
              "#d8576b"
             ],
             [
              0.6666666666666666,
              "#ed7953"
             ],
             [
              0.7777777777777778,
              "#fb9f3a"
             ],
             [
              0.8888888888888888,
              "#fdca26"
             ],
             [
              1,
              "#f0f921"
             ]
            ],
            "type": "histogram2d"
           }
          ],
          "histogram2dcontour": [
           {
            "colorbar": {
             "outlinewidth": 0,
             "ticks": ""
            },
            "colorscale": [
             [
              0,
              "#0d0887"
             ],
             [
              0.1111111111111111,
              "#46039f"
             ],
             [
              0.2222222222222222,
              "#7201a8"
             ],
             [
              0.3333333333333333,
              "#9c179e"
             ],
             [
              0.4444444444444444,
              "#bd3786"
             ],
             [
              0.5555555555555556,
              "#d8576b"
             ],
             [
              0.6666666666666666,
              "#ed7953"
             ],
             [
              0.7777777777777778,
              "#fb9f3a"
             ],
             [
              0.8888888888888888,
              "#fdca26"
             ],
             [
              1,
              "#f0f921"
             ]
            ],
            "type": "histogram2dcontour"
           }
          ],
          "mesh3d": [
           {
            "colorbar": {
             "outlinewidth": 0,
             "ticks": ""
            },
            "type": "mesh3d"
           }
          ],
          "parcoords": [
           {
            "line": {
             "colorbar": {
              "outlinewidth": 0,
              "ticks": ""
             }
            },
            "type": "parcoords"
           }
          ],
          "pie": [
           {
            "automargin": true,
            "type": "pie"
           }
          ],
          "scatter": [
           {
            "fillpattern": {
             "fillmode": "overlay",
             "size": 10,
             "solidity": 0.2
            },
            "type": "scatter"
           }
          ],
          "scatter3d": [
           {
            "line": {
             "colorbar": {
              "outlinewidth": 0,
              "ticks": ""
             }
            },
            "marker": {
             "colorbar": {
              "outlinewidth": 0,
              "ticks": ""
             }
            },
            "type": "scatter3d"
           }
          ],
          "scattercarpet": [
           {
            "marker": {
             "colorbar": {
              "outlinewidth": 0,
              "ticks": ""
             }
            },
            "type": "scattercarpet"
           }
          ],
          "scattergeo": [
           {
            "marker": {
             "colorbar": {
              "outlinewidth": 0,
              "ticks": ""
             }
            },
            "type": "scattergeo"
           }
          ],
          "scattergl": [
           {
            "marker": {
             "colorbar": {
              "outlinewidth": 0,
              "ticks": ""
             }
            },
            "type": "scattergl"
           }
          ],
          "scattermap": [
           {
            "marker": {
             "colorbar": {
              "outlinewidth": 0,
              "ticks": ""
             }
            },
            "type": "scattermap"
           }
          ],
          "scattermapbox": [
           {
            "marker": {
             "colorbar": {
              "outlinewidth": 0,
              "ticks": ""
             }
            },
            "type": "scattermapbox"
           }
          ],
          "scatterpolar": [
           {
            "marker": {
             "colorbar": {
              "outlinewidth": 0,
              "ticks": ""
             }
            },
            "type": "scatterpolar"
           }
          ],
          "scatterpolargl": [
           {
            "marker": {
             "colorbar": {
              "outlinewidth": 0,
              "ticks": ""
             }
            },
            "type": "scatterpolargl"
           }
          ],
          "scatterternary": [
           {
            "marker": {
             "colorbar": {
              "outlinewidth": 0,
              "ticks": ""
             }
            },
            "type": "scatterternary"
           }
          ],
          "surface": [
           {
            "colorbar": {
             "outlinewidth": 0,
             "ticks": ""
            },
            "colorscale": [
             [
              0,
              "#0d0887"
             ],
             [
              0.1111111111111111,
              "#46039f"
             ],
             [
              0.2222222222222222,
              "#7201a8"
             ],
             [
              0.3333333333333333,
              "#9c179e"
             ],
             [
              0.4444444444444444,
              "#bd3786"
             ],
             [
              0.5555555555555556,
              "#d8576b"
             ],
             [
              0.6666666666666666,
              "#ed7953"
             ],
             [
              0.7777777777777778,
              "#fb9f3a"
             ],
             [
              0.8888888888888888,
              "#fdca26"
             ],
             [
              1,
              "#f0f921"
             ]
            ],
            "type": "surface"
           }
          ],
          "table": [
           {
            "cells": {
             "fill": {
              "color": "#EBF0F8"
             },
             "line": {
              "color": "white"
             }
            },
            "header": {
             "fill": {
              "color": "#C8D4E3"
             },
             "line": {
              "color": "white"
             }
            },
            "type": "table"
           }
          ]
         },
         "layout": {
          "annotationdefaults": {
           "arrowcolor": "#2a3f5f",
           "arrowhead": 0,
           "arrowwidth": 1
          },
          "autotypenumbers": "strict",
          "coloraxis": {
           "colorbar": {
            "outlinewidth": 0,
            "ticks": ""
           }
          },
          "colorscale": {
           "diverging": [
            [
             0,
             "#8e0152"
            ],
            [
             0.1,
             "#c51b7d"
            ],
            [
             0.2,
             "#de77ae"
            ],
            [
             0.3,
             "#f1b6da"
            ],
            [
             0.4,
             "#fde0ef"
            ],
            [
             0.5,
             "#f7f7f7"
            ],
            [
             0.6,
             "#e6f5d0"
            ],
            [
             0.7,
             "#b8e186"
            ],
            [
             0.8,
             "#7fbc41"
            ],
            [
             0.9,
             "#4d9221"
            ],
            [
             1,
             "#276419"
            ]
           ],
           "sequential": [
            [
             0,
             "#0d0887"
            ],
            [
             0.1111111111111111,
             "#46039f"
            ],
            [
             0.2222222222222222,
             "#7201a8"
            ],
            [
             0.3333333333333333,
             "#9c179e"
            ],
            [
             0.4444444444444444,
             "#bd3786"
            ],
            [
             0.5555555555555556,
             "#d8576b"
            ],
            [
             0.6666666666666666,
             "#ed7953"
            ],
            [
             0.7777777777777778,
             "#fb9f3a"
            ],
            [
             0.8888888888888888,
             "#fdca26"
            ],
            [
             1,
             "#f0f921"
            ]
           ],
           "sequentialminus": [
            [
             0,
             "#0d0887"
            ],
            [
             0.1111111111111111,
             "#46039f"
            ],
            [
             0.2222222222222222,
             "#7201a8"
            ],
            [
             0.3333333333333333,
             "#9c179e"
            ],
            [
             0.4444444444444444,
             "#bd3786"
            ],
            [
             0.5555555555555556,
             "#d8576b"
            ],
            [
             0.6666666666666666,
             "#ed7953"
            ],
            [
             0.7777777777777778,
             "#fb9f3a"
            ],
            [
             0.8888888888888888,
             "#fdca26"
            ],
            [
             1,
             "#f0f921"
            ]
           ]
          },
          "colorway": [
           "#636efa",
           "#EF553B",
           "#00cc96",
           "#ab63fa",
           "#FFA15A",
           "#19d3f3",
           "#FF6692",
           "#B6E880",
           "#FF97FF",
           "#FECB52"
          ],
          "font": {
           "color": "#2a3f5f"
          },
          "geo": {
           "bgcolor": "white",
           "lakecolor": "white",
           "landcolor": "#E5ECF6",
           "showlakes": true,
           "showland": true,
           "subunitcolor": "white"
          },
          "hoverlabel": {
           "align": "left"
          },
          "hovermode": "closest",
          "mapbox": {
           "style": "light"
          },
          "paper_bgcolor": "white",
          "plot_bgcolor": "#E5ECF6",
          "polar": {
           "angularaxis": {
            "gridcolor": "white",
            "linecolor": "white",
            "ticks": ""
           },
           "bgcolor": "#E5ECF6",
           "radialaxis": {
            "gridcolor": "white",
            "linecolor": "white",
            "ticks": ""
           }
          },
          "scene": {
           "xaxis": {
            "backgroundcolor": "#E5ECF6",
            "gridcolor": "white",
            "gridwidth": 2,
            "linecolor": "white",
            "showbackground": true,
            "ticks": "",
            "zerolinecolor": "white"
           },
           "yaxis": {
            "backgroundcolor": "#E5ECF6",
            "gridcolor": "white",
            "gridwidth": 2,
            "linecolor": "white",
            "showbackground": true,
            "ticks": "",
            "zerolinecolor": "white"
           },
           "zaxis": {
            "backgroundcolor": "#E5ECF6",
            "gridcolor": "white",
            "gridwidth": 2,
            "linecolor": "white",
            "showbackground": true,
            "ticks": "",
            "zerolinecolor": "white"
           }
          },
          "shapedefaults": {
           "line": {
            "color": "#2a3f5f"
           }
          },
          "ternary": {
           "aaxis": {
            "gridcolor": "white",
            "linecolor": "white",
            "ticks": ""
           },
           "baxis": {
            "gridcolor": "white",
            "linecolor": "white",
            "ticks": ""
           },
           "bgcolor": "#E5ECF6",
           "caxis": {
            "gridcolor": "white",
            "linecolor": "white",
            "ticks": ""
           }
          },
          "title": {
           "x": 0.05
          },
          "xaxis": {
           "automargin": true,
           "gridcolor": "white",
           "linecolor": "white",
           "ticks": "",
           "title": {
            "standoff": 15
           },
           "zerolinecolor": "white",
           "zerolinewidth": 2
          },
          "yaxis": {
           "automargin": true,
           "gridcolor": "white",
           "linecolor": "white",
           "ticks": "",
           "title": {
            "standoff": 15
           },
           "zerolinecolor": "white",
           "zerolinewidth": 2
          }
         }
        },
        "title": {
         "text": "Annualized Volatility by Ticker (%)"
        },
        "xaxis": {
         "anchor": "y",
         "domain": [
          0,
          1
         ],
         "title": {
          "text": "Ticker"
         }
        },
        "yaxis": {
         "anchor": "x",
         "domain": [
          0,
          1
         ],
         "range": [
          0,
          80.69156070516367
         ],
         "title": {
          "text": "Annual Volatility (%)"
         }
        }
       }
      },
      "image/png": "[encoded data removed]"
     },
     "metadata": {},
     "output_type": "display_data"
    },
    {
     "name": "stdout",
     "output_type": "stream",
     "text": [
      "✅ Saved images/volatility_pct.png\n"
     ]
    }
   ],
   "source": [
    "\n",
    "# Compute daily returns (no pad-fill) and annualized volatility\n",
    "returns = df.pct_change(fill_method=None).dropna()\n",
    "vol = returns.std() * np.sqrt(252)    # annualized vol\n",
    "vol_pct = vol * 100                    # convert to percent\n",
    "\n",
    "print(\"Annual volatility (%) for each ticker:\\n\", vol_pct)\n",
    "\n",
    "# Plot as a bar chart\n",
    "fig_vol = px.bar(\n",
    "    x=vol_pct.index, y=vol_pct.values,\n",
    "    labels={\"x\":\"Ticker\", \"y\":\"Annual Volatility (%)\"},\n",
    "    title=\"Annualized Volatility by Ticker (%)\"\n",
    ")\n",
    "# Zoom y-axis to just above your max\n",
    "fig_vol.update_yaxes(range=[0, vol_pct.max()*1.1])\n",
    "\n",
    "# Save and show\n",
    "fig_vol.write_image(\"images/volatility_pct.png\", width=600, height=400)\n",
    "fig_vol.show()\n",
    "print(\"✅ Saved images/volatility_pct.png\")\n"
   ]
  },
  {
   "cell_type": "code",
   "execution_count": 24,
   "id": "2cb2a447-4629-4ded-aa49-0d9083bf4711",
   "metadata": {},
   "outputs": [
    {
     "data": {
      "application/vnd.plotly.v1+json": {
       "config": {
        "plotlyServerURL": "https://plot.ly"
       },
       "data": [
        {
         "coloraxis": "coloraxis",
         "hovertemplate": "Ticker: %{x}<br>Ticker: %{y}<br>Covariance: %{z}<extra></extra>",
         "name": "0",
         "texttemplate": "%{z}",
         "type": "heatmap",
         "x": [
          "AAPL",
          "AMZN",
          "GOOGL",
          "MSFT",
          "TSLA"
         ],
         "xaxis": "x",
         "y": [
          "AAPL",
          "AMZN",
          "GOOGL",
          "MSFT",
          "TSLA"
         ],
         "yaxis": "y",
         "z": {
          "bdata": "eMzZ8BHSuD/ZOllm6ruvP60tMpLmlqk/VMnosPv0pj/T/0ROSOS8P9k6WWbqu68/FiuiZs/kvD/pzGEK252xP3il68wUVq4/XAY+r975wD+tLTKS5papP+nMYQrbnbE/8QgMrPMDuT/kWEKHEQinP1o8aF9+QL8/VMnosPv0pj94pevMFFauP+RYQocRCKc/2CU+j0s7rz/eyV0UcnO2P9P/RE5I5Lw/XAY+r975wD9aPGhffkC/P97JXRRyc7Y/qVP57zE44T8=",
          "dtype": "f8",
          "shape": "5, 5"
         }
        }
       ],
       "layout": {
        "coloraxis": {
         "colorbar": {
          "title": {
           "text": "Covariance"
          }
         },
         "colorscale": [
          [
           0,
           "#0d0887"
          ],
          [
           0.1111111111111111,
           "#46039f"
          ],
          [
           0.2222222222222222,
           "#7201a8"
          ],
          [
           0.3333333333333333,
           "#9c179e"
          ],
          [
           0.4444444444444444,
           "#bd3786"
          ],
          [
           0.5555555555555556,
           "#d8576b"
          ],
          [
           0.6666666666666666,
           "#ed7953"
          ],
          [
           0.7777777777777778,
           "#fb9f3a"
          ],
          [
           0.8888888888888888,
           "#fdca26"
          ],
          [
           1,
           "#f0f921"
          ]
         ]
        },
        "template": {
         "data": {
          "bar": [
           {
            "error_x": {
             "color": "#2a3f5f"
            },
            "error_y": {
             "color": "#2a3f5f"
            },
            "marker": {
             "line": {
              "color": "#E5ECF6",
              "width": 0.5
             },
             "pattern": {
              "fillmode": "overlay",
              "size": 10,
              "solidity": 0.2
             }
            },
            "type": "bar"
           }
          ],
          "barpolar": [
           {
            "marker": {
             "line": {
              "color": "#E5ECF6",
              "width": 0.5
             },
             "pattern": {
              "fillmode": "overlay",
              "size": 10,
              "solidity": 0.2
             }
            },
            "type": "barpolar"
           }
          ],
          "carpet": [
           {
            "aaxis": {
             "endlinecolor": "#2a3f5f",
             "gridcolor": "white",
             "linecolor": "white",
             "minorgridcolor": "white",
             "startlinecolor": "#2a3f5f"
            },
            "baxis": {
             "endlinecolor": "#2a3f5f",
             "gridcolor": "white",
             "linecolor": "white",
             "minorgridcolor": "white",
             "startlinecolor": "#2a3f5f"
            },
            "type": "carpet"
           }
          ],
          "choropleth": [
           {
            "colorbar": {
             "outlinewidth": 0,
             "ticks": ""
            },
            "type": "choropleth"
           }
          ],
          "contour": [
           {
            "colorbar": {
             "outlinewidth": 0,
             "ticks": ""
            },
            "colorscale": [
             [
              0,
              "#0d0887"
             ],
             [
              0.1111111111111111,
              "#46039f"
             ],
             [
              0.2222222222222222,
              "#7201a8"
             ],
             [
              0.3333333333333333,
              "#9c179e"
             ],
             [
              0.4444444444444444,
              "#bd3786"
             ],
             [
              0.5555555555555556,
              "#d8576b"
             ],
             [
              0.6666666666666666,
              "#ed7953"
             ],
             [
              0.7777777777777778,
              "#fb9f3a"
             ],
             [
              0.8888888888888888,
              "#fdca26"
             ],
             [
              1,
              "#f0f921"
             ]
            ],
            "type": "contour"
           }
          ],
          "contourcarpet": [
           {
            "colorbar": {
             "outlinewidth": 0,
             "ticks": ""
            },
            "type": "contourcarpet"
           }
          ],
          "heatmap": [
           {
            "colorbar": {
             "outlinewidth": 0,
             "ticks": ""
            },
            "colorscale": [
             [
              0,
              "#0d0887"
             ],
             [
              0.1111111111111111,
              "#46039f"
             ],
             [
              0.2222222222222222,
              "#7201a8"
             ],
             [
              0.3333333333333333,
              "#9c179e"
             ],
             [
              0.4444444444444444,
              "#bd3786"
             ],
             [
              0.5555555555555556,
              "#d8576b"
             ],
             [
              0.6666666666666666,
              "#ed7953"
             ],
             [
              0.7777777777777778,
              "#fb9f3a"
             ],
             [
              0.8888888888888888,
              "#fdca26"
             ],
             [
              1,
              "#f0f921"
             ]
            ],
            "type": "heatmap"
           }
          ],
          "histogram": [
           {
            "marker": {
             "pattern": {
              "fillmode": "overlay",
              "size": 10,
              "solidity": 0.2
             }
            },
            "type": "histogram"
           }
          ],
          "histogram2d": [
           {
            "colorbar": {
             "outlinewidth": 0,
             "ticks": ""
            },
            "colorscale": [
             [
              0,
              "#0d0887"
             ],
             [
              0.1111111111111111,
              "#46039f"
             ],
             [
              0.2222222222222222,
              "#7201a8"
             ],
             [
              0.3333333333333333,
              "#9c179e"
             ],
             [
              0.4444444444444444,
              "#bd3786"
             ],
             [
              0.5555555555555556,
              "#d8576b"
             ],
             [
              0.6666666666666666,
              "#ed7953"
             ],
             [
              0.7777777777777778,
              "#fb9f3a"
             ],
             [
              0.8888888888888888,
              "#fdca26"
             ],
             [
              1,
              "#f0f921"
             ]
            ],
            "type": "histogram2d"
           }
          ],
          "histogram2dcontour": [
           {
            "colorbar": {
             "outlinewidth": 0,
             "ticks": ""
            },
            "colorscale": [
             [
              0,
              "#0d0887"
             ],
             [
              0.1111111111111111,
              "#46039f"
             ],
             [
              0.2222222222222222,
              "#7201a8"
             ],
             [
              0.3333333333333333,
              "#9c179e"
             ],
             [
              0.4444444444444444,
              "#bd3786"
             ],
             [
              0.5555555555555556,
              "#d8576b"
             ],
             [
              0.6666666666666666,
              "#ed7953"
             ],
             [
              0.7777777777777778,
              "#fb9f3a"
             ],
             [
              0.8888888888888888,
              "#fdca26"
             ],
             [
              1,
              "#f0f921"
             ]
            ],
            "type": "histogram2dcontour"
           }
          ],
          "mesh3d": [
           {
            "colorbar": {
             "outlinewidth": 0,
             "ticks": ""
            },
            "type": "mesh3d"
           }
          ],
          "parcoords": [
           {
            "line": {
             "colorbar": {
              "outlinewidth": 0,
              "ticks": ""
             }
            },
            "type": "parcoords"
           }
          ],
          "pie": [
           {
            "automargin": true,
            "type": "pie"
           }
          ],
          "scatter": [
           {
            "fillpattern": {
             "fillmode": "overlay",
             "size": 10,
             "solidity": 0.2
            },
            "type": "scatter"
           }
          ],
          "scatter3d": [
           {
            "line": {
             "colorbar": {
              "outlinewidth": 0,
              "ticks": ""
             }
            },
            "marker": {
             "colorbar": {
              "outlinewidth": 0,
              "ticks": ""
             }
            },
            "type": "scatter3d"
           }
          ],
          "scattercarpet": [
           {
            "marker": {
             "colorbar": {
              "outlinewidth": 0,
              "ticks": ""
             }
            },
            "type": "scattercarpet"
           }
          ],
          "scattergeo": [
           {
            "marker": {
             "colorbar": {
              "outlinewidth": 0,
              "ticks": ""
             }
            },
            "type": "scattergeo"
           }
          ],
          "scattergl": [
           {
            "marker": {
             "colorbar": {
              "outlinewidth": 0,
              "ticks": ""
             }
            },
            "type": "scattergl"
           }
          ],
          "scattermap": [
           {
            "marker": {
             "colorbar": {
              "outlinewidth": 0,
              "ticks": ""
             }
            },
            "type": "scattermap"
           }
          ],
          "scattermapbox": [
           {
            "marker": {
             "colorbar": {
              "outlinewidth": 0,
              "ticks": ""
             }
            },
            "type": "scattermapbox"
           }
          ],
          "scatterpolar": [
           {
            "marker": {
             "colorbar": {
              "outlinewidth": 0,
              "ticks": ""
             }
            },
            "type": "scatterpolar"
           }
          ],
          "scatterpolargl": [
           {
            "marker": {
             "colorbar": {
              "outlinewidth": 0,
              "ticks": ""
             }
            },
            "type": "scatterpolargl"
           }
          ],
          "scatterternary": [
           {
            "marker": {
             "colorbar": {
              "outlinewidth": 0,
              "ticks": ""
             }
            },
            "type": "scatterternary"
           }
          ],
          "surface": [
           {
            "colorbar": {
             "outlinewidth": 0,
             "ticks": ""
            },
            "colorscale": [
             [
              0,
              "#0d0887"
             ],
             [
              0.1111111111111111,
              "#46039f"
             ],
             [
              0.2222222222222222,
              "#7201a8"
             ],
             [
              0.3333333333333333,
              "#9c179e"
             ],
             [
              0.4444444444444444,
              "#bd3786"
             ],
             [
              0.5555555555555556,
              "#d8576b"
             ],
             [
              0.6666666666666666,
              "#ed7953"
             ],
             [
              0.7777777777777778,
              "#fb9f3a"
             ],
             [
              0.8888888888888888,
              "#fdca26"
             ],
             [
              1,
              "#f0f921"
             ]
            ],
            "type": "surface"
           }
          ],
          "table": [
           {
            "cells": {
             "fill": {
              "color": "#EBF0F8"
             },
             "line": {
              "color": "white"
             }
            },
            "header": {
             "fill": {
              "color": "#C8D4E3"
             },
             "line": {
              "color": "white"
             }
            },
            "type": "table"
           }
          ]
         },
         "layout": {
          "annotationdefaults": {
           "arrowcolor": "#2a3f5f",
           "arrowhead": 0,
           "arrowwidth": 1
          },
          "autotypenumbers": "strict",
          "coloraxis": {
           "colorbar": {
            "outlinewidth": 0,
            "ticks": ""
           }
          },
          "colorscale": {
           "diverging": [
            [
             0,
             "#8e0152"
            ],
            [
             0.1,
             "#c51b7d"
            ],
            [
             0.2,
             "#de77ae"
            ],
            [
             0.3,
             "#f1b6da"
            ],
            [
             0.4,
             "#fde0ef"
            ],
            [
             0.5,
             "#f7f7f7"
            ],
            [
             0.6,
             "#e6f5d0"
            ],
            [
             0.7,
             "#b8e186"
            ],
            [
             0.8,
             "#7fbc41"
            ],
            [
             0.9,
             "#4d9221"
            ],
            [
             1,
             "#276419"
            ]
           ],
           "sequential": [
            [
             0,
             "#0d0887"
            ],
            [
             0.1111111111111111,
             "#46039f"
            ],
            [
             0.2222222222222222,
             "#7201a8"
            ],
            [
             0.3333333333333333,
             "#9c179e"
            ],
            [
             0.4444444444444444,
             "#bd3786"
            ],
            [
             0.5555555555555556,
             "#d8576b"
            ],
            [
             0.6666666666666666,
             "#ed7953"
            ],
            [
             0.7777777777777778,
             "#fb9f3a"
            ],
            [
             0.8888888888888888,
             "#fdca26"
            ],
            [
             1,
             "#f0f921"
            ]
           ],
           "sequentialminus": [
            [
             0,
             "#0d0887"
            ],
            [
             0.1111111111111111,
             "#46039f"
            ],
            [
             0.2222222222222222,
             "#7201a8"
            ],
            [
             0.3333333333333333,
             "#9c179e"
            ],
            [
             0.4444444444444444,
             "#bd3786"
            ],
            [
             0.5555555555555556,
             "#d8576b"
            ],
            [
             0.6666666666666666,
             "#ed7953"
            ],
            [
             0.7777777777777778,
             "#fb9f3a"
            ],
            [
             0.8888888888888888,
             "#fdca26"
            ],
            [
             1,
             "#f0f921"
            ]
           ]
          },
          "colorway": [
           "#636efa",
           "#EF553B",
           "#00cc96",
           "#ab63fa",
           "#FFA15A",
           "#19d3f3",
           "#FF6692",
           "#B6E880",
           "#FF97FF",
           "#FECB52"
          ],
          "font": {
           "color": "#2a3f5f"
          },
          "geo": {
           "bgcolor": "white",
           "lakecolor": "white",
           "landcolor": "#E5ECF6",
           "showlakes": true,
           "showland": true,
           "subunitcolor": "white"
          },
          "hoverlabel": {
           "align": "left"
          },
          "hovermode": "closest",
          "mapbox": {
           "style": "light"
          },
          "paper_bgcolor": "white",
          "plot_bgcolor": "#E5ECF6",
          "polar": {
           "angularaxis": {
            "gridcolor": "white",
            "linecolor": "white",
            "ticks": ""
           },
           "bgcolor": "#E5ECF6",
           "radialaxis": {
            "gridcolor": "white",
            "linecolor": "white",
            "ticks": ""
           }
          },
          "scene": {
           "xaxis": {
            "backgroundcolor": "#E5ECF6",
            "gridcolor": "white",
            "gridwidth": 2,
            "linecolor": "white",
            "showbackground": true,
            "ticks": "",
            "zerolinecolor": "white"
           },
           "yaxis": {
            "backgroundcolor": "#E5ECF6",
            "gridcolor": "white",
            "gridwidth": 2,
            "linecolor": "white",
            "showbackground": true,
            "ticks": "",
            "zerolinecolor": "white"
           },
           "zaxis": {
            "backgroundcolor": "#E5ECF6",
            "gridcolor": "white",
            "gridwidth": 2,
            "linecolor": "white",
            "showbackground": true,
            "ticks": "",
            "zerolinecolor": "white"
           }
          },
          "shapedefaults": {
           "line": {
            "color": "#2a3f5f"
           }
          },
          "ternary": {
           "aaxis": {
            "gridcolor": "white",
            "linecolor": "white",
            "ticks": ""
           },
           "baxis": {
            "gridcolor": "white",
            "linecolor": "white",
            "ticks": ""
           },
           "bgcolor": "#E5ECF6",
           "caxis": {
            "gridcolor": "white",
            "linecolor": "white",
            "ticks": ""
           }
          },
          "title": {
           "x": 0.05
          },
          "xaxis": {
           "automargin": true,
           "gridcolor": "white",
           "linecolor": "white",
           "ticks": "",
           "title": {
            "standoff": 15
           },
           "zerolinecolor": "white",
           "zerolinewidth": 2
          },
          "yaxis": {
           "automargin": true,
           "gridcolor": "white",
           "linecolor": "white",
           "ticks": "",
           "title": {
            "standoff": 15
           },
           "zerolinecolor": "white",
           "zerolinewidth": 2
          }
         }
        },
        "title": {
         "text": "Annualized Covariance Matrix"
        },
        "xaxis": {
         "anchor": "y",
         "domain": [
          0,
          1
         ],
         "title": {
          "text": "Ticker"
         }
        },
        "yaxis": {
         "anchor": "x",
         "autorange": "reversed",
         "domain": [
          0,
          1
         ],
         "title": {
          "text": "Ticker"
         }
        }
       }
      },
      "image/png": "[encoded data removed]"
     },
     "metadata": {},
     "output_type": "display_data"
    },
    {
     "name": "stdout",
     "output_type": "stream",
     "text": [
      "✅ Saved images/covariance.png\n"
     ]
    }
   ],
   "source": [
    "\n",
    "# Annualize covariance\n",
    "cov = returns.cov() * 252\n",
    "\n",
    "# Plot heat-map\n",
    "fig_cov = px.imshow(\n",
    "    cov,\n",
    "    text_auto=True,\n",
    "    aspect=\"auto\",\n",
    "    title=\"Annualized Covariance Matrix\",\n",
    "    labels=dict(x=\"Ticker\", y=\"Ticker\", color=\"Covariance\")\n",
    ")\n",
    "\n",
    "# Save and show\n",
    "fig_cov.write_image(\"images/covariance.png\", width=600, height=600)\n",
    "fig_cov.show()\n",
    "print(\"✅ Saved images/covariance.png\")\n"
   ]
  },
  {
   "cell_type": "code",
   "execution_count": 26,
   "id": "07d2adb2-aa36-4829-bbc2-150d32feec7b",
   "metadata": {},
   "outputs": [
    {
     "data": {
      "application/vnd.plotly.v1+json": {
       "config": {
        "plotlyServerURL": "https://plot.ly"
       },
       "data": [
        {
         "hovertemplate": "Volatility=%{x}<br>Expected Return=%{y}<br>Sharpe Ratio=%{marker.color}<extra></extra>",
         "legendgroup": "",
         "marker": {
          "color": {
           "bdata": "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",
           "dtype": "f8"
          },
          "coloraxis": "coloraxis",
          "symbol": "circle"
         },
         "mode": "markers",
         "name": "",
         "showlegend": false,
         "type": "scattergl",
         "x": {
          "bdata": "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",
          "dtype": "f8"
         },
         "xaxis": "x",
         "y": {
          "bdata": "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",
          "dtype": "f8"
         },
         "yaxis": "y"
        }
       ],
       "layout": {
        "coloraxis": {
         "colorbar": {
          "title": {
           "text": "Sharpe Ratio"
          }
         },
         "colorscale": [
          [
           0,
           "#0d0887"
          ],
          [
           0.1111111111111111,
           "#46039f"
          ],
          [
           0.2222222222222222,
           "#7201a8"
          ],
          [
           0.3333333333333333,
           "#9c179e"
          ],
          [
           0.4444444444444444,
           "#bd3786"
          ],
          [
           0.5555555555555556,
           "#d8576b"
          ],
          [
           0.6666666666666666,
           "#ed7953"
          ],
          [
           0.7777777777777778,
           "#fb9f3a"
          ],
          [
           0.8888888888888888,
           "#fdca26"
          ],
          [
           1,
           "#f0f921"
          ]
         ]
        },
        "legend": {
         "tracegroupgap": 0
        },
        "template": {
         "data": {
          "bar": [
           {
            "error_x": {
             "color": "#2a3f5f"
            },
            "error_y": {
             "color": "#2a3f5f"
            },
            "marker": {
             "line": {
              "color": "#E5ECF6",
              "width": 0.5
             },
             "pattern": {
              "fillmode": "overlay",
              "size": 10,
              "solidity": 0.2
             }
            },
            "type": "bar"
           }
          ],
          "barpolar": [
           {
            "marker": {
             "line": {
              "color": "#E5ECF6",
              "width": 0.5
             },
             "pattern": {
              "fillmode": "overlay",
              "size": 10,
              "solidity": 0.2
             }
            },
            "type": "barpolar"
           }
          ],
          "carpet": [
           {
            "aaxis": {
             "endlinecolor": "#2a3f5f",
             "gridcolor": "white",
             "linecolor": "white",
             "minorgridcolor": "white",
             "startlinecolor": "#2a3f5f"
            },
            "baxis": {
             "endlinecolor": "#2a3f5f",
             "gridcolor": "white",
             "linecolor": "white",
             "minorgridcolor": "white",
             "startlinecolor": "#2a3f5f"
            },
            "type": "carpet"
           }
          ],
          "choropleth": [
           {
            "colorbar": {
             "outlinewidth": 0,
             "ticks": ""
            },
            "type": "choropleth"
           }
          ],
          "contour": [
           {
            "colorbar": {
             "outlinewidth": 0,
             "ticks": ""
            },
            "colorscale": [
             [
              0,
              "#0d0887"
             ],
             [
              0.1111111111111111,
              "#46039f"
             ],
             [
              0.2222222222222222,
              "#7201a8"
             ],
             [
              0.3333333333333333,
              "#9c179e"
             ],
             [
              0.4444444444444444,
              "#bd3786"
             ],
             [
              0.5555555555555556,
              "#d8576b"
             ],
             [
              0.6666666666666666,
              "#ed7953"
             ],
             [
              0.7777777777777778,
              "#fb9f3a"
             ],
             [
              0.8888888888888888,
              "#fdca26"
             ],
             [
              1,
              "#f0f921"
             ]
            ],
            "type": "contour"
           }
          ],
          "contourcarpet": [
           {
            "colorbar": {
             "outlinewidth": 0,
             "ticks": ""
            },
            "type": "contourcarpet"
           }
          ],
          "heatmap": [
           {
            "colorbar": {
             "outlinewidth": 0,
             "ticks": ""
            },
            "colorscale": [
             [
              0,
              "#0d0887"
             ],
             [
              0.1111111111111111,
              "#46039f"
             ],
             [
              0.2222222222222222,
              "#7201a8"
             ],
             [
              0.3333333333333333,
              "#9c179e"
             ],
             [
              0.4444444444444444,
              "#bd3786"
             ],
             [
              0.5555555555555556,
              "#d8576b"
             ],
             [
              0.6666666666666666,
              "#ed7953"
             ],
             [
              0.7777777777777778,
              "#fb9f3a"
             ],
             [
              0.8888888888888888,
              "#fdca26"
             ],
             [
              1,
              "#f0f921"
             ]
            ],
            "type": "heatmap"
           }
          ],
          "histogram": [
           {
            "marker": {
             "pattern": {
              "fillmode": "overlay",
              "size": 10,
              "solidity": 0.2
             }
            },
            "type": "histogram"
           }
          ],
          "histogram2d": [
           {
            "colorbar": {
             "outlinewidth": 0,
             "ticks": ""
            },
            "colorscale": [
             [
              0,
              "#0d0887"
             ],
             [
              0.1111111111111111,
              "#46039f"
             ],
             [
              0.2222222222222222,
              "#7201a8"
             ],
             [
              0.3333333333333333,
              "#9c179e"
             ],
             [
              0.4444444444444444,
              "#bd3786"
             ],
             [
              0.5555555555555556,
              "#d8576b"
             ],
             [
              0.6666666666666666,
              "#ed7953"
             ],
             [
              0.7777777777777778,
              "#fb9f3a"
             ],
             [
              0.8888888888888888,
              "#fdca26"
             ],
             [
              1,
              "#f0f921"
             ]
            ],
            "type": "histogram2d"
           }
          ],
          "histogram2dcontour": [
           {
            "colorbar": {
             "outlinewidth": 0,
             "ticks": ""
            },
            "colorscale": [
             [
              0,
              "#0d0887"
             ],
             [
              0.1111111111111111,
              "#46039f"
             ],
             [
              0.2222222222222222,
              "#7201a8"
             ],
             [
              0.3333333333333333,
              "#9c179e"
             ],
             [
              0.4444444444444444,
              "#bd3786"
             ],
             [
              0.5555555555555556,
              "#d8576b"
             ],
             [
              0.6666666666666666,
              "#ed7953"
             ],
             [
              0.7777777777777778,
              "#fb9f3a"
             ],
             [
              0.8888888888888888,
              "#fdca26"
             ],
             [
              1,
              "#f0f921"
             ]
            ],
            "type": "histogram2dcontour"
           }
          ],
          "mesh3d": [
           {
            "colorbar": {
             "outlinewidth": 0,
             "ticks": ""
            },
            "type": "mesh3d"
           }
          ],
          "parcoords": [
           {
            "line": {
             "colorbar": {
              "outlinewidth": 0,
              "ticks": ""
             }
            },
            "type": "parcoords"
           }
          ],
          "pie": [
           {
            "automargin": true,
            "type": "pie"
           }
          ],
          "scatter": [
           {
            "fillpattern": {
             "fillmode": "overlay",
             "size": 10,
             "solidity": 0.2
            },
            "type": "scatter"
           }
          ],
          "scatter3d": [
           {
            "line": {
             "colorbar": {
              "outlinewidth": 0,
              "ticks": ""
             }
            },
            "marker": {
             "colorbar": {
              "outlinewidth": 0,
              "ticks": ""
             }
            },
            "type": "scatter3d"
           }
          ],
          "scattercarpet": [
           {
            "marker": {
             "colorbar": {
              "outlinewidth": 0,
              "ticks": ""
             }
            },
            "type": "scattercarpet"
           }
          ],
          "scattergeo": [
           {
            "marker": {
             "colorbar": {
              "outlinewidth": 0,
              "ticks": ""
             }
            },
            "type": "scattergeo"
           }
          ],
          "scattergl": [
           {
            "marker": {
             "colorbar": {
              "outlinewidth": 0,
              "ticks": ""
             }
            },
            "type": "scattergl"
           }
          ],
          "scattermap": [
           {
            "marker": {
             "colorbar": {
              "outlinewidth": 0,
              "ticks": ""
             }
            },
            "type": "scattermap"
           }
          ],
          "scattermapbox": [
           {
            "marker": {
             "colorbar": {
              "outlinewidth": 0,
              "ticks": ""
             }
            },
            "type": "scattermapbox"
           }
          ],
          "scatterpolar": [
           {
            "marker": {
             "colorbar": {
              "outlinewidth": 0,
              "ticks": ""
             }
            },
            "type": "scatterpolar"
           }
          ],
          "scatterpolargl": [
           {
            "marker": {
             "colorbar": {
              "outlinewidth": 0,
              "ticks": ""
             }
            },
            "type": "scatterpolargl"
           }
          ],
          "scatterternary": [
           {
            "marker": {
             "colorbar": {
              "outlinewidth": 0,
              "ticks": ""
             }
            },
            "type": "scatterternary"
           }
          ],
          "surface": [
           {
            "colorbar": {
             "outlinewidth": 0,
             "ticks": ""
            },
            "colorscale": [
             [
              0,
              "#0d0887"
             ],
             [
              0.1111111111111111,
              "#46039f"
             ],
             [
              0.2222222222222222,
              "#7201a8"
             ],
             [
              0.3333333333333333,
              "#9c179e"
             ],
             [
              0.4444444444444444,
              "#bd3786"
             ],
             [
              0.5555555555555556,
              "#d8576b"
             ],
             [
              0.6666666666666666,
              "#ed7953"
             ],
             [
              0.7777777777777778,
              "#fb9f3a"
             ],
             [
              0.8888888888888888,
              "#fdca26"
             ],
             [
              1,
              "#f0f921"
             ]
            ],
            "type": "surface"
           }
          ],
          "table": [
           {
            "cells": {
             "fill": {
              "color": "#EBF0F8"
             },
             "line": {
              "color": "white"
             }
            },
            "header": {
             "fill": {
              "color": "#C8D4E3"
             },
             "line": {
              "color": "white"
             }
            },
            "type": "table"
           }
          ]
         },
         "layout": {
          "annotationdefaults": {
           "arrowcolor": "#2a3f5f",
           "arrowhead": 0,
           "arrowwidth": 1
          },
          "autotypenumbers": "strict",
          "coloraxis": {
           "colorbar": {
            "outlinewidth": 0,
            "ticks": ""
           }
          },
          "colorscale": {
           "diverging": [
            [
             0,
             "#8e0152"
            ],
            [
             0.1,
             "#c51b7d"
            ],
            [
             0.2,
             "#de77ae"
            ],
            [
             0.3,
             "#f1b6da"
            ],
            [
             0.4,
             "#fde0ef"
            ],
            [
             0.5,
             "#f7f7f7"
            ],
            [
             0.6,
             "#e6f5d0"
            ],
            [
             0.7,
             "#b8e186"
            ],
            [
             0.8,
             "#7fbc41"
            ],
            [
             0.9,
             "#4d9221"
            ],
            [
             1,
             "#276419"
            ]
           ],
           "sequential": [
            [
             0,
             "#0d0887"
            ],
            [
             0.1111111111111111,
             "#46039f"
            ],
            [
             0.2222222222222222,
             "#7201a8"
            ],
            [
             0.3333333333333333,
             "#9c179e"
            ],
            [
             0.4444444444444444,
             "#bd3786"
            ],
            [
             0.5555555555555556,
             "#d8576b"
            ],
            [
             0.6666666666666666,
             "#ed7953"
            ],
            [
             0.7777777777777778,
             "#fb9f3a"
            ],
            [
             0.8888888888888888,
             "#fdca26"
            ],
            [
             1,
             "#f0f921"
            ]
           ],
           "sequentialminus": [
            [
             0,
             "#0d0887"
            ],
            [
             0.1111111111111111,
             "#46039f"
            ],
            [
             0.2222222222222222,
             "#7201a8"
            ],
            [
             0.3333333333333333,
             "#9c179e"
            ],
            [
             0.4444444444444444,
             "#bd3786"
            ],
            [
             0.5555555555555556,
             "#d8576b"
            ],
            [
             0.6666666666666666,
             "#ed7953"
            ],
            [
             0.7777777777777778,
             "#fb9f3a"
            ],
            [
             0.8888888888888888,
             "#fdca26"
            ],
            [
             1,
             "#f0f921"
            ]
           ]
          },
          "colorway": [
           "#636efa",
           "#EF553B",
           "#00cc96",
           "#ab63fa",
           "#FFA15A",
           "#19d3f3",
           "#FF6692",
           "#B6E880",
           "#FF97FF",
           "#FECB52"
          ],
          "font": {
           "color": "#2a3f5f"
          },
          "geo": {
           "bgcolor": "white",
           "lakecolor": "white",
           "landcolor": "#E5ECF6",
           "showlakes": true,
           "showland": true,
           "subunitcolor": "white"
          },
          "hoverlabel": {
           "align": "left"
          },
          "hovermode": "closest",
          "mapbox": {
           "style": "light"
          },
          "paper_bgcolor": "white",
          "plot_bgcolor": "#E5ECF6",
          "polar": {
           "angularaxis": {
            "gridcolor": "white",
            "linecolor": "white",
            "ticks": ""
           },
           "bgcolor": "#E5ECF6",
           "radialaxis": {
            "gridcolor": "white",
            "linecolor": "white",
            "ticks": ""
           }
          },
          "scene": {
           "xaxis": {
            "backgroundcolor": "#E5ECF6",
            "gridcolor": "white",
            "gridwidth": 2,
            "linecolor": "white",
            "showbackground": true,
            "ticks": "",
            "zerolinecolor": "white"
           },
           "yaxis": {
            "backgroundcolor": "#E5ECF6",
            "gridcolor": "white",
            "gridwidth": 2,
            "linecolor": "white",
            "showbackground": true,
            "ticks": "",
            "zerolinecolor": "white"
           },
           "zaxis": {
            "backgroundcolor": "#E5ECF6",
            "gridcolor": "white",
            "gridwidth": 2,
            "linecolor": "white",
            "showbackground": true,
            "ticks": "",
            "zerolinecolor": "white"
           }
          },
          "shapedefaults": {
           "line": {
            "color": "#2a3f5f"
           }
          },
          "ternary": {
           "aaxis": {
            "gridcolor": "white",
            "linecolor": "white",
            "ticks": ""
           },
           "baxis": {
            "gridcolor": "white",
            "linecolor": "white",
            "ticks": ""
           },
           "bgcolor": "#E5ECF6",
           "caxis": {
            "gridcolor": "white",
            "linecolor": "white",
            "ticks": ""
           }
          },
          "title": {
           "x": 0.05
          },
          "xaxis": {
           "automargin": true,
           "gridcolor": "white",
           "linecolor": "white",
           "ticks": "",
           "title": {
            "standoff": 15
           },
           "zerolinecolor": "white",
           "zerolinewidth": 2
          },
          "yaxis": {
           "automargin": true,
           "gridcolor": "white",
           "linecolor": "white",
           "ticks": "",
           "title": {
            "standoff": 15
           },
           "zerolinecolor": "white",
           "zerolinewidth": 2
          }
         }
        },
        "title": {
         "text": "Simulated Portfolios & Efficient Frontier"
        },
        "xaxis": {
         "anchor": "y",
         "domain": [
          0,
          1
         ],
         "title": {
          "text": "Volatility"
         }
        },
        "yaxis": {
         "anchor": "x",
         "domain": [
          0,
          1
         ],
         "title": {
          "text": "Expected Return"
         }
        }
       }
      },
      "image/png": "[encoded data removed]"
     },
     "metadata": {},
     "output_type": "display_data"
    },
    {
     "name": "stdout",
     "output_type": "stream",
     "text": [
      "✅ Saved images/efficient_frontier.png\n"
     ]
    }
   ],
   "source": [
    "\n",
    "mean_ret = returns.mean() * 252\n",
    "cov_mat  = returns.cov()  * 252\n",
    "n_sims   = 5000\n",
    "\n",
    "# Simulate portfolios\n",
    "results = np.zeros((3, n_sims))\n",
    "for i in range(n_sims):\n",
    "    w = np.random.random(len(vol_pct))\n",
    "    w /= w.sum()\n",
    "    port_ret = np.dot(w, mean_ret)\n",
    "    port_vol = np.sqrt(w.T @ cov_mat @ w)\n",
    "    results[0,i] = port_vol\n",
    "    results[1,i] = port_ret\n",
    "    results[2,i] = port_ret / port_vol  # Sharpe ratio\n",
    "\n",
    "# DataFrame of simulations\n",
    "port_df = pd.DataFrame(\n",
    "    results.T,\n",
    "    columns=[\"vol\", \"ret\", \"sharpe\"]\n",
    ")\n",
    "\n",
    "# Plot the efficient frontier\n",
    "fig_eff = px.scatter(\n",
    "    port_df,\n",
    "    x=\"vol\", y=\"ret\", color=\"sharpe\",\n",
    "    labels={\"vol\":\"Volatility\",\"ret\":\"Expected Return\",\"sharpe\":\"Sharpe Ratio\"},\n",
    "    title=\"Simulated Portfolios & Efficient Frontier\"\n",
    ")\n",
    "\n",
    "# Save and show\n",
    "fig_eff.write_image(\"images/efficient_frontier.png\", width=700, height=500)\n",
    "fig_eff.show()\n",
    "print(\"✅ Saved images/efficient_frontier.png\")\n"
   ]
  }
 ],
 "metadata": {
  "kernelspec": {
   "display_name": "Python 3 (ipykernel)",
   "language": "python",
   "name": "python3"
  },
  "language_info": {
   "codemirror_mode": {
    "name": "ipython",
    "version": 3
   },
   "file_extension": ".py",
   "mimetype": "text/x-python",
   "name": "python",
   "nbconvert_exporter": "python",
   "pygments_lexer": "ipython3",
   "version": "3.13.5"
  }
 },
 "nbformat": 4,
 "nbformat_minor": 5
}
