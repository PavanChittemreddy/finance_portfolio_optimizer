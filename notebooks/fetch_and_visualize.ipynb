{
 "cells": [
  {
   "cell_type": "code",
   "execution_count": 16,
   "id": "e4735f95-c01c-4ea0-8b6b-45d2dd320520",
   "metadata": {},
   "outputs": [
    {
     "name": "stdout",
     "output_type": "stream",
     "text": [
      "✅ Downloaded data; DF shape: (270, 5)\n"
     ]
    },
    {
     "data": {
      "text/html": [
       "<div>\n",
       "<style scoped>\n",
       "    .dataframe tbody tr th:only-of-type {\n",
       "        vertical-align: middle;\n",
       "    }\n",
       "\n",
       "    .dataframe tbody tr th {\n",
       "        vertical-align: top;\n",
       "    }\n",
       "\n",
       "    .dataframe thead th {\n",
       "        text-align: right;\n",
       "    }\n",
       "</style>\n",
       "<table border=\"1\" class=\"dataframe\">\n",
       "  <thead>\n",
       "    <tr style=\"text-align: right;\">\n",
       "      <th>Ticker</th>\n",
       "      <th>AAPL</th>\n",
       "      <th>AMZN</th>\n",
       "      <th>GOOGL</th>\n",
       "      <th>MSFT</th>\n",
       "      <th>TSLA</th>\n",
       "    </tr>\n",
       "    <tr>\n",
       "      <th>Date</th>\n",
       "      <th></th>\n",
       "      <th></th>\n",
       "      <th></th>\n",
       "      <th></th>\n",
       "      <th></th>\n",
       "    </tr>\n",
       "  </thead>\n",
       "  <tbody>\n",
       "    <tr>\n",
       "      <th>2024-07-01</th>\n",
       "      <td>216.750000</td>\n",
       "      <td>197.199997</td>\n",
       "      <td>182.990005</td>\n",
       "      <td>456.730011</td>\n",
       "      <td>209.860001</td>\n",
       "    </tr>\n",
       "    <tr>\n",
       "      <th>2024-07-02</th>\n",
       "      <td>220.270004</td>\n",
       "      <td>200.000000</td>\n",
       "      <td>185.240005</td>\n",
       "      <td>459.279999</td>\n",
       "      <td>231.259995</td>\n",
       "    </tr>\n",
       "    <tr>\n",
       "      <th>2024-07-03</th>\n",
       "      <td>221.550003</td>\n",
       "      <td>197.589996</td>\n",
       "      <td>185.820007</td>\n",
       "      <td>460.769989</td>\n",
       "      <td>246.389999</td>\n",
       "    </tr>\n",
       "    <tr>\n",
       "      <th>2024-07-05</th>\n",
       "      <td>226.339996</td>\n",
       "      <td>200.000000</td>\n",
       "      <td>190.600006</td>\n",
       "      <td>467.559998</td>\n",
       "      <td>251.520004</td>\n",
       "    </tr>\n",
       "    <tr>\n",
       "      <th>2024-07-08</th>\n",
       "      <td>227.820007</td>\n",
       "      <td>199.289993</td>\n",
       "      <td>189.029999</td>\n",
       "      <td>466.239990</td>\n",
       "      <td>252.940002</td>\n",
       "    </tr>\n",
       "  </tbody>\n",
       "</table>\n",
       "</div>"
      ],
      "text/plain": [
       "Ticker            AAPL        AMZN       GOOGL        MSFT        TSLA\n",
       "Date                                                                  \n",
       "2024-07-01  216.750000  197.199997  182.990005  456.730011  209.860001\n",
       "2024-07-02  220.270004  200.000000  185.240005  459.279999  231.259995\n",
       "2024-07-03  221.550003  197.589996  185.820007  460.769989  246.389999\n",
       "2024-07-05  226.339996  200.000000  190.600006  467.559998  251.520004\n",
       "2024-07-08  227.820007  199.289993  189.029999  466.239990  252.940002"
      ]
     },
     "metadata": {},
     "output_type": "display_data"
    },
    {
     "name": "stdout",
     "output_type": "stream",
     "text": [
      "✅ Saved close_prices.csv to data/\n"
     ]
    },
    {
     "data": {
      "application/vnd.plotly.v1+json": {
       "config": {
        "plotlyServerURL": "https://plot.ly"
       },
       "data": [
        {
         "hovertemplate": "Ticker=AAPL<br>Date=%{x}<br>Close=%{y}<extra></extra>",
         "legendgroup": "AAPL",
         "line": {
          "color": "#636efa",
          "dash": "solid"
         },
         "marker": {
          "symbol": "circle"
         },
         "mode": "lines",
         "name": "AAPL",
         "showlegend": true,
         "type": "scattergl",
         "x": [
          "2024-07-01T00:00:00",
          "2024-07-02T00:00:00",
          "2024-07-03T00:00:00",
          "2024-07-05T00:00:00",
          "2024-07-08T00:00:00",
          "2024-07-09T00:00:00",
          "2024-07-10T00:00:00",
          "2024-07-11T00:00:00",
          "2024-07-12T00:00:00",
          "2024-07-15T00:00:00",
          "2024-07-16T00:00:00",
          "2024-07-17T00:00:00",
          "2024-07-18T00:00:00",
          "2024-07-19T00:00:00",
          "2024-07-22T00:00:00",
          "2024-07-23T00:00:00",
          "2024-07-24T00:00:00",
          "2024-07-25T00:00:00",
          "2024-07-26T00:00:00",
          "2024-07-29T00:00:00",
          "2024-07-30T00:00:00",
          "2024-07-31T00:00:00",
          "2024-08-01T00:00:00",
          "2024-08-02T00:00:00",
          "2024-08-05T00:00:00",
          "2024-08-06T00:00:00",
          "2024-08-07T00:00:00",
          "2024-08-08T00:00:00",
          "2024-08-09T00:00:00",
          "2024-08-12T00:00:00",
          "2024-08-13T00:00:00",
          "2024-08-14T00:00:00",
          "2024-08-15T00:00:00",
          "2024-08-16T00:00:00",
          "2024-08-19T00:00:00",
          "2024-08-20T00:00:00",
          "2024-08-21T00:00:00",
          "2024-08-22T00:00:00",
          "2024-08-23T00:00:00",
          "2024-08-26T00:00:00",
          "2024-08-27T00:00:00",
          "2024-08-28T00:00:00",
          "2024-08-29T00:00:00",
          "2024-08-30T00:00:00",
          "2024-09-03T00:00:00",
          "2024-09-04T00:00:00",
          "2024-09-05T00:00:00",
          "2024-09-06T00:00:00",
          "2024-09-09T00:00:00",
          "2024-09-10T00:00:00",
          "2024-09-11T00:00:00",
          "2024-09-12T00:00:00",
          "2024-09-13T00:00:00",
          "2024-09-16T00:00:00",
          "2024-09-17T00:00:00",
          "2024-09-18T00:00:00",
          "2024-09-19T00:00:00",
          "2024-09-20T00:00:00",
          "2024-09-23T00:00:00",
          "2024-09-24T00:00:00",
          "2024-09-25T00:00:00",
          "2024-09-26T00:00:00",
          "2024-09-27T00:00:00",
          "2024-09-30T00:00:00",
          "2024-10-01T00:00:00",
          "2024-10-02T00:00:00",
          "2024-10-03T00:00:00",
          "2024-10-04T00:00:00",
          "2024-10-07T00:00:00",
          "2024-10-08T00:00:00",
          "2024-10-09T00:00:00",
          "2024-10-10T00:00:00",
          "2024-10-11T00:00:00",
          "2024-10-14T00:00:00",
          "2024-10-15T00:00:00",
          "2024-10-16T00:00:00",
          "2024-10-17T00:00:00",
          "2024-10-18T00:00:00",
          "2024-10-21T00:00:00",
          "2024-10-22T00:00:00",
          "2024-10-23T00:00:00",
          "2024-10-24T00:00:00",
          "2024-10-25T00:00:00",
          "2024-10-28T00:00:00",
          "2024-10-29T00:00:00",
          "2024-10-30T00:00:00",
          "2024-10-31T00:00:00",
          "2024-11-01T00:00:00",
          "2024-11-04T00:00:00",
          "2024-11-05T00:00:00",
          "2024-11-06T00:00:00",
          "2024-11-07T00:00:00",
          "2024-11-08T00:00:00",
          "2024-11-11T00:00:00",
          "2024-11-12T00:00:00",
          "2024-11-13T00:00:00",
          "2024-11-14T00:00:00",
          "2024-11-15T00:00:00",
          "2024-11-18T00:00:00",
          "2024-11-19T00:00:00",
          "2024-11-20T00:00:00",
          "2024-11-21T00:00:00",
          "2024-11-22T00:00:00",
          "2024-11-25T00:00:00",
          "2024-11-26T00:00:00",
          "2024-11-27T00:00:00",
          "2024-11-29T00:00:00",
          "2024-12-02T00:00:00",
          "2024-12-03T00:00:00",
          "2024-12-04T00:00:00",
          "2024-12-05T00:00:00",
          "2024-12-06T00:00:00",
          "2024-12-09T00:00:00",
          "2024-12-10T00:00:00",
          "2024-12-11T00:00:00",
          "2024-12-12T00:00:00",
          "2024-12-13T00:00:00",
          "2024-12-16T00:00:00",
          "2024-12-17T00:00:00",
          "2024-12-18T00:00:00",
          "2024-12-19T00:00:00",
          "2024-12-20T00:00:00",
          "2024-12-23T00:00:00",
          "2024-12-24T00:00:00",
          "2024-12-26T00:00:00",
          "2024-12-27T00:00:00",
          "2024-12-30T00:00:00",
          "2024-12-31T00:00:00",
          "2025-01-02T00:00:00",
          "2025-01-03T00:00:00",
          "2025-01-06T00:00:00",
          "2025-01-07T00:00:00",
          "2025-01-08T00:00:00",
          "2025-01-10T00:00:00",
          "2025-01-13T00:00:00",
          "2025-01-14T00:00:00",
          "2025-01-15T00:00:00",
          "2025-01-16T00:00:00",
          "2025-01-17T00:00:00",
          "2025-01-21T00:00:00",
          "2025-01-22T00:00:00",
          "2025-01-23T00:00:00",
          "2025-01-24T00:00:00",
          "2025-01-27T00:00:00",
          "2025-01-28T00:00:00",
          "2025-01-29T00:00:00",
          "2025-01-30T00:00:00",
          "2025-01-31T00:00:00",
          "2025-02-03T00:00:00",
          "2025-02-04T00:00:00",
          "2025-02-05T00:00:00",
          "2025-02-06T00:00:00",
          "2025-02-07T00:00:00",
          "2025-02-10T00:00:00",
          "2025-02-11T00:00:00",
          "2025-02-12T00:00:00",
          "2025-02-13T00:00:00",
          "2025-02-14T00:00:00",
          "2025-02-18T00:00:00",
          "2025-02-19T00:00:00",
          "2025-02-20T00:00:00",
          "2025-02-21T00:00:00",
          "2025-02-24T00:00:00",
          "2025-02-25T00:00:00",
          "2025-02-26T00:00:00",
          "2025-02-27T00:00:00",
          "2025-02-28T00:00:00",
          "2025-03-03T00:00:00",
          "2025-03-04T00:00:00",
          "2025-03-05T00:00:00",
          "2025-03-06T00:00:00",
          "2025-03-07T00:00:00",
          "2025-03-10T00:00:00",
          "2025-03-11T00:00:00",
          "2025-03-12T00:00:00",
          "2025-03-13T00:00:00",
          "2025-03-14T00:00:00",
          "2025-03-17T00:00:00",
          "2025-03-18T00:00:00",
          "2025-03-19T00:00:00",
          "2025-03-20T00:00:00",
          "2025-03-21T00:00:00",
          "2025-03-24T00:00:00",
          "2025-03-25T00:00:00",
          "2025-03-26T00:00:00",
          "2025-03-27T00:00:00",
          "2025-03-28T00:00:00",
          "2025-03-31T00:00:00",
          "2025-04-01T00:00:00",
          "2025-04-02T00:00:00",
          "2025-04-03T00:00:00",
          "2025-04-04T00:00:00",
          "2025-04-07T00:00:00",
          "2025-04-08T00:00:00",
          "2025-04-09T00:00:00",
          "2025-04-10T00:00:00",
          "2025-04-11T00:00:00",
          "2025-04-14T00:00:00",
          "2025-04-15T00:00:00",
          "2025-04-16T00:00:00",
          "2025-04-17T00:00:00",
          "2025-04-21T00:00:00",
          "2025-04-22T00:00:00",
          "2025-04-23T00:00:00",
          "2025-04-24T00:00:00",
          "2025-04-25T00:00:00",
          "2025-04-28T00:00:00",
          "2025-04-29T00:00:00",
          "2025-04-30T00:00:00",
          "2025-05-01T00:00:00",
          "2025-05-02T00:00:00",
          "2025-05-05T00:00:00",
          "2025-05-06T00:00:00",
          "2025-05-07T00:00:00",
          "2025-05-08T00:00:00",
          "2025-05-09T00:00:00",
          "2025-05-12T00:00:00",
          "2025-05-13T00:00:00",
          "2025-05-14T00:00:00",
          "2025-05-15T00:00:00",
          "2025-05-16T00:00:00",
          "2025-05-19T00:00:00",
          "2025-05-20T00:00:00",
          "2025-05-21T00:00:00",
          "2025-05-22T00:00:00",
          "2025-05-23T00:00:00",
          "2025-05-27T00:00:00",
          "2025-05-28T00:00:00",
          "2025-05-29T00:00:00",
          "2025-05-30T00:00:00",
          "2025-06-02T00:00:00",
          "2025-06-03T00:00:00",
          "2025-06-04T00:00:00",
          "2025-06-05T00:00:00",
          "2025-06-06T00:00:00",
          "2025-06-09T00:00:00",
          "2025-06-10T00:00:00",
          "2025-06-11T00:00:00",
          "2025-06-12T00:00:00",
          "2025-06-13T00:00:00",
          "2025-06-16T00:00:00",
          "2025-06-17T00:00:00",
          "2025-06-18T00:00:00",
          "2025-06-20T00:00:00",
          "2025-06-23T00:00:00",
          "2025-06-24T00:00:00",
          "2025-06-25T00:00:00",
          "2025-06-26T00:00:00",
          "2025-06-27T00:00:00",
          "2025-06-30T00:00:00",
          "2025-07-01T00:00:00",
          "2025-07-02T00:00:00",
          "2025-07-03T00:00:00",
          "2025-07-07T00:00:00",
          "2025-07-08T00:00:00",
          "2025-07-09T00:00:00",
          "2025-07-10T00:00:00",
          "2025-07-11T00:00:00",
          "2025-07-14T00:00:00",
          "2025-07-15T00:00:00",
          "2025-07-16T00:00:00",
          "2025-07-17T00:00:00",
          "2025-07-18T00:00:00",
          "2025-07-21T00:00:00",
          "2025-07-22T00:00:00",
          "2025-07-23T00:00:00",
          "2025-07-24T00:00:00",
          "2025-07-25T00:00:00",
          "2025-07-28T00:00:00",
          "2025-07-29T00:00:00"
         ],
         "xaxis": "x",
         "y": {
          "bdata": "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",
          "dtype": "f8"
         },
         "yaxis": "y"
        },
        {
         "hovertemplate": "Ticker=AMZN<br>Date=%{x}<br>Close=%{y}<extra></extra>",
         "legendgroup": "AMZN",
         "line": {
          "color": "#EF553B",
          "dash": "solid"
         },
         "marker": {
          "symbol": "circle"
         },
         "mode": "lines",
         "name": "AMZN",
         "showlegend": true,
         "type": "scattergl",
         "x": [
          "2024-07-01T00:00:00",
          "2024-07-02T00:00:00",
          "2024-07-03T00:00:00",
          "2024-07-05T00:00:00",
          "2024-07-08T00:00:00",
          "2024-07-09T00:00:00",
          "2024-07-10T00:00:00",
          "2024-07-11T00:00:00",
          "2024-07-12T00:00:00",
          "2024-07-15T00:00:00",
          "2024-07-16T00:00:00",
          "2024-07-17T00:00:00",
          "2024-07-18T00:00:00",
          "2024-07-19T00:00:00",
          "2024-07-22T00:00:00",
          "2024-07-23T00:00:00",
          "2024-07-24T00:00:00",
          "2024-07-25T00:00:00",
          "2024-07-26T00:00:00",
          "2024-07-29T00:00:00",
          "2024-07-30T00:00:00",
          "2024-07-31T00:00:00",
          "2024-08-01T00:00:00",
          "2024-08-02T00:00:00",
          "2024-08-05T00:00:00",
          "2024-08-06T00:00:00",
          "2024-08-07T00:00:00",
          "2024-08-08T00:00:00",
          "2024-08-09T00:00:00",
          "2024-08-12T00:00:00",
          "2024-08-13T00:00:00",
          "2024-08-14T00:00:00",
          "2024-08-15T00:00:00",
          "2024-08-16T00:00:00",
          "2024-08-19T00:00:00",
          "2024-08-20T00:00:00",
          "2024-08-21T00:00:00",
          "2024-08-22T00:00:00",
          "2024-08-23T00:00:00",
          "2024-08-26T00:00:00",
          "2024-08-27T00:00:00",
          "2024-08-28T00:00:00",
          "2024-08-29T00:00:00",
          "2024-08-30T00:00:00",
          "2024-09-03T00:00:00",
          "2024-09-04T00:00:00",
          "2024-09-05T00:00:00",
          "2024-09-06T00:00:00",
          "2024-09-09T00:00:00",
          "2024-09-10T00:00:00",
          "2024-09-11T00:00:00",
          "2024-09-12T00:00:00",
          "2024-09-13T00:00:00",
          "2024-09-16T00:00:00",
          "2024-09-17T00:00:00",
          "2024-09-18T00:00:00",
          "2024-09-19T00:00:00",
          "2024-09-20T00:00:00",
          "2024-09-23T00:00:00",
          "2024-09-24T00:00:00",
          "2024-09-25T00:00:00",
          "2024-09-26T00:00:00",
          "2024-09-27T00:00:00",
          "2024-09-30T00:00:00",
          "2024-10-01T00:00:00",
          "2024-10-02T00:00:00",
          "2024-10-03T00:00:00",
          "2024-10-04T00:00:00",
          "2024-10-07T00:00:00",
          "2024-10-08T00:00:00",
          "2024-10-09T00:00:00",
          "2024-10-10T00:00:00",
          "2024-10-11T00:00:00",
          "2024-10-14T00:00:00",
          "2024-10-15T00:00:00",
          "2024-10-16T00:00:00",
          "2024-10-17T00:00:00",
          "2024-10-18T00:00:00",
          "2024-10-21T00:00:00",
          "2024-10-22T00:00:00",
          "2024-10-23T00:00:00",
          "2024-10-24T00:00:00",
          "2024-10-25T00:00:00",
          "2024-10-28T00:00:00",
          "2024-10-29T00:00:00",
          "2024-10-30T00:00:00",
          "2024-10-31T00:00:00",
          "2024-11-01T00:00:00",
          "2024-11-04T00:00:00",
          "2024-11-05T00:00:00",
          "2024-11-06T00:00:00",
          "2024-11-07T00:00:00",
          "2024-11-08T00:00:00",
          "2024-11-11T00:00:00",
          "2024-11-12T00:00:00",
          "2024-11-13T00:00:00",
          "2024-11-14T00:00:00",
          "2024-11-15T00:00:00",
          "2024-11-18T00:00:00",
          "2024-11-19T00:00:00",
          "2024-11-20T00:00:00",
          "2024-11-21T00:00:00",
          "2024-11-22T00:00:00",
          "2024-11-25T00:00:00",
          "2024-11-26T00:00:00",
          "2024-11-27T00:00:00",
          "2024-11-29T00:00:00",
          "2024-12-02T00:00:00",
          "2024-12-03T00:00:00",
          "2024-12-04T00:00:00",
          "2024-12-05T00:00:00",
          "2024-12-06T00:00:00",
          "2024-12-09T00:00:00",
          "2024-12-10T00:00:00",
          "2024-12-11T00:00:00",
          "2024-12-12T00:00:00",
          "2024-12-13T00:00:00",
          "2024-12-16T00:00:00",
          "2024-12-17T00:00:00",
          "2024-12-18T00:00:00",
          "2024-12-19T00:00:00",
          "2024-12-20T00:00:00",
          "2024-12-23T00:00:00",
          "2024-12-24T00:00:00",
          "2024-12-26T00:00:00",
          "2024-12-27T00:00:00",
          "2024-12-30T00:00:00",
          "2024-12-31T00:00:00",
          "2025-01-02T00:00:00",
          "2025-01-03T00:00:00",
          "2025-01-06T00:00:00",
          "2025-01-07T00:00:00",
          "2025-01-08T00:00:00",
          "2025-01-10T00:00:00",
          "2025-01-13T00:00:00",
          "2025-01-14T00:00:00",
          "2025-01-15T00:00:00",
          "2025-01-16T00:00:00",
          "2025-01-17T00:00:00",
          "2025-01-21T00:00:00",
          "2025-01-22T00:00:00",
          "2025-01-23T00:00:00",
          "2025-01-24T00:00:00",
          "2025-01-27T00:00:00",
          "2025-01-28T00:00:00",
          "2025-01-29T00:00:00",
          "2025-01-30T00:00:00",
          "2025-01-31T00:00:00",
          "2025-02-03T00:00:00",
          "2025-02-04T00:00:00",
          "2025-02-05T00:00:00",
          "2025-02-06T00:00:00",
          "2025-02-07T00:00:00",
          "2025-02-10T00:00:00",
          "2025-02-11T00:00:00",
          "2025-02-12T00:00:00",
          "2025-02-13T00:00:00",
          "2025-02-14T00:00:00",
          "2025-02-18T00:00:00",
          "2025-02-19T00:00:00",
          "2025-02-20T00:00:00",
          "2025-02-21T00:00:00",
          "2025-02-24T00:00:00",
          "2025-02-25T00:00:00",
          "2025-02-26T00:00:00",
          "2025-02-27T00:00:00",
          "2025-02-28T00:00:00",
          "2025-03-03T00:00:00",
          "2025-03-04T00:00:00",
          "2025-03-05T00:00:00",
          "2025-03-06T00:00:00",
          "2025-03-07T00:00:00",
          "2025-03-10T00:00:00",
          "2025-03-11T00:00:00",
          "2025-03-12T00:00:00",
          "2025-03-13T00:00:00",
          "2025-03-14T00:00:00",
          "2025-03-17T00:00:00",
          "2025-03-18T00:00:00",
          "2025-03-19T00:00:00",
          "2025-03-20T00:00:00",
          "2025-03-21T00:00:00",
          "2025-03-24T00:00:00",
          "2025-03-25T00:00:00",
          "2025-03-26T00:00:00",
          "2025-03-27T00:00:00",
          "2025-03-28T00:00:00",
          "2025-03-31T00:00:00",
          "2025-04-01T00:00:00",
          "2025-04-02T00:00:00",
          "2025-04-03T00:00:00",
          "2025-04-04T00:00:00",
          "2025-04-07T00:00:00",
          "2025-04-08T00:00:00",
          "2025-04-09T00:00:00",
          "2025-04-10T00:00:00",
          "2025-04-11T00:00:00",
          "2025-04-14T00:00:00",
          "2025-04-15T00:00:00",
          "2025-04-16T00:00:00",
          "2025-04-17T00:00:00",
          "2025-04-21T00:00:00",
          "2025-04-22T00:00:00",
          "2025-04-23T00:00:00",
          "2025-04-24T00:00:00",
          "2025-04-25T00:00:00",
          "2025-04-28T00:00:00",
          "2025-04-29T00:00:00",
          "2025-04-30T00:00:00",
          "2025-05-01T00:00:00",
          "2025-05-02T00:00:00",
          "2025-05-05T00:00:00",
          "2025-05-06T00:00:00",
          "2025-05-07T00:00:00",
          "2025-05-08T00:00:00",
          "2025-05-09T00:00:00",
          "2025-05-12T00:00:00",
          "2025-05-13T00:00:00",
          "2025-05-14T00:00:00",
          "2025-05-15T00:00:00",
          "2025-05-16T00:00:00",
          "2025-05-19T00:00:00",
          "2025-05-20T00:00:00",
          "2025-05-21T00:00:00",
          "2025-05-22T00:00:00",
          "2025-05-23T00:00:00",
          "2025-05-27T00:00:00",
          "2025-05-28T00:00:00",
          "2025-05-29T00:00:00",
          "2025-05-30T00:00:00",
          "2025-06-02T00:00:00",
          "2025-06-03T00:00:00",
          "2025-06-04T00:00:00",
          "2025-06-05T00:00:00",
          "2025-06-06T00:00:00",
          "2025-06-09T00:00:00",
          "2025-06-10T00:00:00",
          "2025-06-11T00:00:00",
          "2025-06-12T00:00:00",
          "2025-06-13T00:00:00",
          "2025-06-16T00:00:00",
          "2025-06-17T00:00:00",
          "2025-06-18T00:00:00",
          "2025-06-20T00:00:00",
          "2025-06-23T00:00:00",
          "2025-06-24T00:00:00",
          "2025-06-25T00:00:00",
          "2025-06-26T00:00:00",
          "2025-06-27T00:00:00",
          "2025-06-30T00:00:00",
          "2025-07-01T00:00:00",
          "2025-07-02T00:00:00",
          "2025-07-03T00:00:00",
          "2025-07-07T00:00:00",
          "2025-07-08T00:00:00",
          "2025-07-09T00:00:00",
          "2025-07-10T00:00:00",
          "2025-07-11T00:00:00",
          "2025-07-14T00:00:00",
          "2025-07-15T00:00:00",
          "2025-07-16T00:00:00",
          "2025-07-17T00:00:00",
          "2025-07-18T00:00:00",
          "2025-07-21T00:00:00",
          "2025-07-22T00:00:00",
          "2025-07-23T00:00:00",
          "2025-07-24T00:00:00",
          "2025-07-25T00:00:00",
          "2025-07-28T00:00:00",
          "2025-07-29T00:00:00"
         ],
         "xaxis": "x",
         "y": {
          "bdata": "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",
          "dtype": "f8"
         },
         "yaxis": "y"
        },
        {
         "hovertemplate": "Ticker=GOOGL<br>Date=%{x}<br>Close=%{y}<extra></extra>",
         "legendgroup": "GOOGL",
         "line": {
          "color": "#00cc96",
          "dash": "solid"
         },
         "marker": {
          "symbol": "circle"
         },
         "mode": "lines",
         "name": "GOOGL",
         "showlegend": true,
         "type": "scattergl",
         "x": [
          "2024-07-01T00:00:00",
          "2024-07-02T00:00:00",
          "2024-07-03T00:00:00",
          "2024-07-05T00:00:00",
          "2024-07-08T00:00:00",
          "2024-07-09T00:00:00",
          "2024-07-10T00:00:00",
          "2024-07-11T00:00:00",
          "2024-07-12T00:00:00",
          "2024-07-15T00:00:00",
          "2024-07-16T00:00:00",
          "2024-07-17T00:00:00",
          "2024-07-18T00:00:00",
          "2024-07-19T00:00:00",
          "2024-07-22T00:00:00",
          "2024-07-23T00:00:00",
          "2024-07-24T00:00:00",
          "2024-07-25T00:00:00",
          "2024-07-26T00:00:00",
          "2024-07-29T00:00:00",
          "2024-07-30T00:00:00",
          "2024-07-31T00:00:00",
          "2024-08-01T00:00:00",
          "2024-08-02T00:00:00",
          "2024-08-05T00:00:00",
          "2024-08-06T00:00:00",
          "2024-08-07T00:00:00",
          "2024-08-08T00:00:00",
          "2024-08-09T00:00:00",
          "2024-08-12T00:00:00",
          "2024-08-13T00:00:00",
          "2024-08-14T00:00:00",
          "2024-08-15T00:00:00",
          "2024-08-16T00:00:00",
          "2024-08-19T00:00:00",
          "2024-08-20T00:00:00",
          "2024-08-21T00:00:00",
          "2024-08-22T00:00:00",
          "2024-08-23T00:00:00",
          "2024-08-26T00:00:00",
          "2024-08-27T00:00:00",
          "2024-08-28T00:00:00",
          "2024-08-29T00:00:00",
          "2024-08-30T00:00:00",
          "2024-09-03T00:00:00",
          "2024-09-04T00:00:00",
          "2024-09-05T00:00:00",
          "2024-09-06T00:00:00",
          "2024-09-09T00:00:00",
          "2024-09-10T00:00:00",
          "2024-09-11T00:00:00",
          "2024-09-12T00:00:00",
          "2024-09-13T00:00:00",
          "2024-09-16T00:00:00",
          "2024-09-17T00:00:00",
          "2024-09-18T00:00:00",
          "2024-09-19T00:00:00",
          "2024-09-20T00:00:00",
          "2024-09-23T00:00:00",
          "2024-09-24T00:00:00",
          "2024-09-25T00:00:00",
          "2024-09-26T00:00:00",
          "2024-09-27T00:00:00",
          "2024-09-30T00:00:00",
          "2024-10-01T00:00:00",
          "2024-10-02T00:00:00",
          "2024-10-03T00:00:00",
          "2024-10-04T00:00:00",
          "2024-10-07T00:00:00",
          "2024-10-08T00:00:00",
          "2024-10-09T00:00:00",
          "2024-10-10T00:00:00",
          "2024-10-11T00:00:00",
          "2024-10-14T00:00:00",
          "2024-10-15T00:00:00",
          "2024-10-16T00:00:00",
          "2024-10-17T00:00:00",
          "2024-10-18T00:00:00",
          "2024-10-21T00:00:00",
          "2024-10-22T00:00:00",
          "2024-10-23T00:00:00",
          "2024-10-24T00:00:00",
          "2024-10-25T00:00:00",
          "2024-10-28T00:00:00",
          "2024-10-29T00:00:00",
          "2024-10-30T00:00:00",
          "2024-10-31T00:00:00",
          "2024-11-01T00:00:00",
          "2024-11-04T00:00:00",
          "2024-11-05T00:00:00",
          "2024-11-06T00:00:00",
          "2024-11-07T00:00:00",
          "2024-11-08T00:00:00",
          "2024-11-11T00:00:00",
          "2024-11-12T00:00:00",
          "2024-11-13T00:00:00",
          "2024-11-14T00:00:00",
          "2024-11-15T00:00:00",
          "2024-11-18T00:00:00",
          "2024-11-19T00:00:00",
          "2024-11-20T00:00:00",
          "2024-11-21T00:00:00",
          "2024-11-22T00:00:00",
          "2024-11-25T00:00:00",
          "2024-11-26T00:00:00",
          "2024-11-27T00:00:00",
          "2024-11-29T00:00:00",
          "2024-12-02T00:00:00",
          "2024-12-03T00:00:00",
          "2024-12-04T00:00:00",
          "2024-12-05T00:00:00",
          "2024-12-06T00:00:00",
          "2024-12-09T00:00:00",
          "2024-12-10T00:00:00",
          "2024-12-11T00:00:00",
          "2024-12-12T00:00:00",
          "2024-12-13T00:00:00",
          "2024-12-16T00:00:00",
          "2024-12-17T00:00:00",
          "2024-12-18T00:00:00",
          "2024-12-19T00:00:00",
          "2024-12-20T00:00:00",
          "2024-12-23T00:00:00",
          "2024-12-24T00:00:00",
          "2024-12-26T00:00:00",
          "2024-12-27T00:00:00",
          "2024-12-30T00:00:00",
          "2024-12-31T00:00:00",
          "2025-01-02T00:00:00",
          "2025-01-03T00:00:00",
          "2025-01-06T00:00:00",
          "2025-01-07T00:00:00",
          "2025-01-08T00:00:00",
          "2025-01-10T00:00:00",
          "2025-01-13T00:00:00",
          "2025-01-14T00:00:00",
          "2025-01-15T00:00:00",
          "2025-01-16T00:00:00",
          "2025-01-17T00:00:00",
          "2025-01-21T00:00:00",
          "2025-01-22T00:00:00",
          "2025-01-23T00:00:00",
          "2025-01-24T00:00:00",
          "2025-01-27T00:00:00",
          "2025-01-28T00:00:00",
          "2025-01-29T00:00:00",
          "2025-01-30T00:00:00",
          "2025-01-31T00:00:00",
          "2025-02-03T00:00:00",
          "2025-02-04T00:00:00",
          "2025-02-05T00:00:00",
          "2025-02-06T00:00:00",
          "2025-02-07T00:00:00",
          "2025-02-10T00:00:00",
          "2025-02-11T00:00:00",
          "2025-02-12T00:00:00",
          "2025-02-13T00:00:00",
          "2025-02-14T00:00:00",
          "2025-02-18T00:00:00",
          "2025-02-19T00:00:00",
          "2025-02-20T00:00:00",
          "2025-02-21T00:00:00",
          "2025-02-24T00:00:00",
          "2025-02-25T00:00:00",
          "2025-02-26T00:00:00",
          "2025-02-27T00:00:00",
          "2025-02-28T00:00:00",
          "2025-03-03T00:00:00",
          "2025-03-04T00:00:00",
          "2025-03-05T00:00:00",
          "2025-03-06T00:00:00",
          "2025-03-07T00:00:00",
          "2025-03-10T00:00:00",
          "2025-03-11T00:00:00",
          "2025-03-12T00:00:00",
          "2025-03-13T00:00:00",
          "2025-03-14T00:00:00",
          "2025-03-17T00:00:00",
          "2025-03-18T00:00:00",
          "2025-03-19T00:00:00",
          "2025-03-20T00:00:00",
          "2025-03-21T00:00:00",
          "2025-03-24T00:00:00",
          "2025-03-25T00:00:00",
          "2025-03-26T00:00:00",
          "2025-03-27T00:00:00",
          "2025-03-28T00:00:00",
          "2025-03-31T00:00:00",
          "2025-04-01T00:00:00",
          "2025-04-02T00:00:00",
          "2025-04-03T00:00:00",
          "2025-04-04T00:00:00",
          "2025-04-07T00:00:00",
          "2025-04-08T00:00:00",
          "2025-04-09T00:00:00",
          "2025-04-10T00:00:00",
          "2025-04-11T00:00:00",
          "2025-04-14T00:00:00",
          "2025-04-15T00:00:00",
          "2025-04-16T00:00:00",
          "2025-04-17T00:00:00",
          "2025-04-21T00:00:00",
          "2025-04-22T00:00:00",
          "2025-04-23T00:00:00",
          "2025-04-24T00:00:00",
          "2025-04-25T00:00:00",
          "2025-04-28T00:00:00",
          "2025-04-29T00:00:00",
          "2025-04-30T00:00:00",
          "2025-05-01T00:00:00",
          "2025-05-02T00:00:00",
          "2025-05-05T00:00:00",
          "2025-05-06T00:00:00",
          "2025-05-07T00:00:00",
          "2025-05-08T00:00:00",
          "2025-05-09T00:00:00",
          "2025-05-12T00:00:00",
          "2025-05-13T00:00:00",
          "2025-05-14T00:00:00",
          "2025-05-15T00:00:00",
          "2025-05-16T00:00:00",
          "2025-05-19T00:00:00",
          "2025-05-20T00:00:00",
          "2025-05-21T00:00:00",
          "2025-05-22T00:00:00",
          "2025-05-23T00:00:00",
          "2025-05-27T00:00:00",
          "2025-05-28T00:00:00",
          "2025-05-29T00:00:00",
          "2025-05-30T00:00:00",
          "2025-06-02T00:00:00",
          "2025-06-03T00:00:00",
          "2025-06-04T00:00:00",
          "2025-06-05T00:00:00",
          "2025-06-06T00:00:00",
          "2025-06-09T00:00:00",
          "2025-06-10T00:00:00",
          "2025-06-11T00:00:00",
          "2025-06-12T00:00:00",
          "2025-06-13T00:00:00",
          "2025-06-16T00:00:00",
          "2025-06-17T00:00:00",
          "2025-06-18T00:00:00",
          "2025-06-20T00:00:00",
          "2025-06-23T00:00:00",
          "2025-06-24T00:00:00",
          "2025-06-25T00:00:00",
          "2025-06-26T00:00:00",
          "2025-06-27T00:00:00",
          "2025-06-30T00:00:00",
          "2025-07-01T00:00:00",
          "2025-07-02T00:00:00",
          "2025-07-03T00:00:00",
          "2025-07-07T00:00:00",
          "2025-07-08T00:00:00",
          "2025-07-09T00:00:00",
          "2025-07-10T00:00:00",
          "2025-07-11T00:00:00",
          "2025-07-14T00:00:00",
          "2025-07-15T00:00:00",
          "2025-07-16T00:00:00",
          "2025-07-17T00:00:00",
          "2025-07-18T00:00:00",
          "2025-07-21T00:00:00",
          "2025-07-22T00:00:00",
          "2025-07-23T00:00:00",
          "2025-07-24T00:00:00",
          "2025-07-25T00:00:00",
          "2025-07-28T00:00:00",
          "2025-07-29T00:00:00"
         ],
         "xaxis": "x",
         "y": {
          "bdata": "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",
          "dtype": "f8"
         },
         "yaxis": "y"
        },
        {
         "hovertemplate": "Ticker=MSFT<br>Date=%{x}<br>Close=%{y}<extra></extra>",
         "legendgroup": "MSFT",
         "line": {
          "color": "#ab63fa",
          "dash": "solid"
         },
         "marker": {
          "symbol": "circle"
         },
         "mode": "lines",
         "name": "MSFT",
         "showlegend": true,
         "type": "scattergl",
         "x": [
          "2024-07-01T00:00:00",
          "2024-07-02T00:00:00",
          "2024-07-03T00:00:00",
          "2024-07-05T00:00:00",
          "2024-07-08T00:00:00",
          "2024-07-09T00:00:00",
          "2024-07-10T00:00:00",
          "2024-07-11T00:00:00",
          "2024-07-12T00:00:00",
          "2024-07-15T00:00:00",
          "2024-07-16T00:00:00",
          "2024-07-17T00:00:00",
          "2024-07-18T00:00:00",
          "2024-07-19T00:00:00",
          "2024-07-22T00:00:00",
          "2024-07-23T00:00:00",
          "2024-07-24T00:00:00",
          "2024-07-25T00:00:00",
          "2024-07-26T00:00:00",
          "2024-07-29T00:00:00",
          "2024-07-30T00:00:00",
          "2024-07-31T00:00:00",
          "2024-08-01T00:00:00",
          "2024-08-02T00:00:00",
          "2024-08-05T00:00:00",
          "2024-08-06T00:00:00",
          "2024-08-07T00:00:00",
          "2024-08-08T00:00:00",
          "2024-08-09T00:00:00",
          "2024-08-12T00:00:00",
          "2024-08-13T00:00:00",
          "2024-08-14T00:00:00",
          "2024-08-15T00:00:00",
          "2024-08-16T00:00:00",
          "2024-08-19T00:00:00",
          "2024-08-20T00:00:00",
          "2024-08-21T00:00:00",
          "2024-08-22T00:00:00",
          "2024-08-23T00:00:00",
          "2024-08-26T00:00:00",
          "2024-08-27T00:00:00",
          "2024-08-28T00:00:00",
          "2024-08-29T00:00:00",
          "2024-08-30T00:00:00",
          "2024-09-03T00:00:00",
          "2024-09-04T00:00:00",
          "2024-09-05T00:00:00",
          "2024-09-06T00:00:00",
          "2024-09-09T00:00:00",
          "2024-09-10T00:00:00",
          "2024-09-11T00:00:00",
          "2024-09-12T00:00:00",
          "2024-09-13T00:00:00",
          "2024-09-16T00:00:00",
          "2024-09-17T00:00:00",
          "2024-09-18T00:00:00",
          "2024-09-19T00:00:00",
          "2024-09-20T00:00:00",
          "2024-09-23T00:00:00",
          "2024-09-24T00:00:00",
          "2024-09-25T00:00:00",
          "2024-09-26T00:00:00",
          "2024-09-27T00:00:00",
          "2024-09-30T00:00:00",
          "2024-10-01T00:00:00",
          "2024-10-02T00:00:00",
          "2024-10-03T00:00:00",
          "2024-10-04T00:00:00",
          "2024-10-07T00:00:00",
          "2024-10-08T00:00:00",
          "2024-10-09T00:00:00",
          "2024-10-10T00:00:00",
          "2024-10-11T00:00:00",
          "2024-10-14T00:00:00",
          "2024-10-15T00:00:00",
          "2024-10-16T00:00:00",
          "2024-10-17T00:00:00",
          "2024-10-18T00:00:00",
          "2024-10-21T00:00:00",
          "2024-10-22T00:00:00",
          "2024-10-23T00:00:00",
          "2024-10-24T00:00:00",
          "2024-10-25T00:00:00",
          "2024-10-28T00:00:00",
          "2024-10-29T00:00:00",
          "2024-10-30T00:00:00",
          "2024-10-31T00:00:00",
          "2024-11-01T00:00:00",
          "2024-11-04T00:00:00",
          "2024-11-05T00:00:00",
          "2024-11-06T00:00:00",
          "2024-11-07T00:00:00",
          "2024-11-08T00:00:00",
          "2024-11-11T00:00:00",
          "2024-11-12T00:00:00",
          "2024-11-13T00:00:00",
          "2024-11-14T00:00:00",
          "2024-11-15T00:00:00",
          "2024-11-18T00:00:00",
          "2024-11-19T00:00:00",
          "2024-11-20T00:00:00",
          "2024-11-21T00:00:00",
          "2024-11-22T00:00:00",
          "2024-11-25T00:00:00",
          "2024-11-26T00:00:00",
          "2024-11-27T00:00:00",
          "2024-11-29T00:00:00",
          "2024-12-02T00:00:00",
          "2024-12-03T00:00:00",
          "2024-12-04T00:00:00",
          "2024-12-05T00:00:00",
          "2024-12-06T00:00:00",
          "2024-12-09T00:00:00",
          "2024-12-10T00:00:00",
          "2024-12-11T00:00:00",
          "2024-12-12T00:00:00",
          "2024-12-13T00:00:00",
          "2024-12-16T00:00:00",
          "2024-12-17T00:00:00",
          "2024-12-18T00:00:00",
          "2024-12-19T00:00:00",
          "2024-12-20T00:00:00",
          "2024-12-23T00:00:00",
          "2024-12-24T00:00:00",
          "2024-12-26T00:00:00",
          "2024-12-27T00:00:00",
          "2024-12-30T00:00:00",
          "2024-12-31T00:00:00",
          "2025-01-02T00:00:00",
          "2025-01-03T00:00:00",
          "2025-01-06T00:00:00",
          "2025-01-07T00:00:00",
          "2025-01-08T00:00:00",
          "2025-01-10T00:00:00",
          "2025-01-13T00:00:00",
          "2025-01-14T00:00:00",
          "2025-01-15T00:00:00",
          "2025-01-16T00:00:00",
          "2025-01-17T00:00:00",
          "2025-01-21T00:00:00",
          "2025-01-22T00:00:00",
          "2025-01-23T00:00:00",
          "2025-01-24T00:00:00",
          "2025-01-27T00:00:00",
          "2025-01-28T00:00:00",
          "2025-01-29T00:00:00",
          "2025-01-30T00:00:00",
          "2025-01-31T00:00:00",
          "2025-02-03T00:00:00",
          "2025-02-04T00:00:00",
          "2025-02-05T00:00:00",
          "2025-02-06T00:00:00",
          "2025-02-07T00:00:00",
          "2025-02-10T00:00:00",
          "2025-02-11T00:00:00",
          "2025-02-12T00:00:00",
          "2025-02-13T00:00:00",
          "2025-02-14T00:00:00",
          "2025-02-18T00:00:00",
          "2025-02-19T00:00:00",
          "2025-02-20T00:00:00",
          "2025-02-21T00:00:00",
          "2025-02-24T00:00:00",
          "2025-02-25T00:00:00",
          "2025-02-26T00:00:00",
          "2025-02-27T00:00:00",
          "2025-02-28T00:00:00",
          "2025-03-03T00:00:00",
          "2025-03-04T00:00:00",
          "2025-03-05T00:00:00",
          "2025-03-06T00:00:00",
          "2025-03-07T00:00:00",
          "2025-03-10T00:00:00",
          "2025-03-11T00:00:00",
          "2025-03-12T00:00:00",
          "2025-03-13T00:00:00",
          "2025-03-14T00:00:00",
          "2025-03-17T00:00:00",
          "2025-03-18T00:00:00",
          "2025-03-19T00:00:00",
          "2025-03-20T00:00:00",
          "2025-03-21T00:00:00",
          "2025-03-24T00:00:00",
          "2025-03-25T00:00:00",
          "2025-03-26T00:00:00",
          "2025-03-27T00:00:00",
          "2025-03-28T00:00:00",
          "2025-03-31T00:00:00",
          "2025-04-01T00:00:00",
          "2025-04-02T00:00:00",
          "2025-04-03T00:00:00",
          "2025-04-04T00:00:00",
          "2025-04-07T00:00:00",
          "2025-04-08T00:00:00",
          "2025-04-09T00:00:00",
          "2025-04-10T00:00:00",
          "2025-04-11T00:00:00",
          "2025-04-14T00:00:00",
          "2025-04-15T00:00:00",
          "2025-04-16T00:00:00",
          "2025-04-17T00:00:00",
          "2025-04-21T00:00:00",
          "2025-04-22T00:00:00",
          "2025-04-23T00:00:00",
          "2025-04-24T00:00:00",
          "2025-04-25T00:00:00",
          "2025-04-28T00:00:00",
          "2025-04-29T00:00:00",
          "2025-04-30T00:00:00",
          "2025-05-01T00:00:00",
          "2025-05-02T00:00:00",
          "2025-05-05T00:00:00",
          "2025-05-06T00:00:00",
          "2025-05-07T00:00:00",
          "2025-05-08T00:00:00",
          "2025-05-09T00:00:00",
          "2025-05-12T00:00:00",
          "2025-05-13T00:00:00",
          "2025-05-14T00:00:00",
          "2025-05-15T00:00:00",
          "2025-05-16T00:00:00",
          "2025-05-19T00:00:00",
          "2025-05-20T00:00:00",
          "2025-05-21T00:00:00",
          "2025-05-22T00:00:00",
          "2025-05-23T00:00:00",
          "2025-05-27T00:00:00",
          "2025-05-28T00:00:00",
          "2025-05-29T00:00:00",
          "2025-05-30T00:00:00",
          "2025-06-02T00:00:00",
          "2025-06-03T00:00:00",
          "2025-06-04T00:00:00",
          "2025-06-05T00:00:00",
          "2025-06-06T00:00:00",
          "2025-06-09T00:00:00",
          "2025-06-10T00:00:00",
          "2025-06-11T00:00:00",
          "2025-06-12T00:00:00",
          "2025-06-13T00:00:00",
          "2025-06-16T00:00:00",
          "2025-06-17T00:00:00",
          "2025-06-18T00:00:00",
          "2025-06-20T00:00:00",
          "2025-06-23T00:00:00",
          "2025-06-24T00:00:00",
          "2025-06-25T00:00:00",
          "2025-06-26T00:00:00",
          "2025-06-27T00:00:00",
          "2025-06-30T00:00:00",
          "2025-07-01T00:00:00",
          "2025-07-02T00:00:00",
          "2025-07-03T00:00:00",
          "2025-07-07T00:00:00",
          "2025-07-08T00:00:00",
          "2025-07-09T00:00:00",
          "2025-07-10T00:00:00",
          "2025-07-11T00:00:00",
          "2025-07-14T00:00:00",
          "2025-07-15T00:00:00",
          "2025-07-16T00:00:00",
          "2025-07-17T00:00:00",
          "2025-07-18T00:00:00",
          "2025-07-21T00:00:00",
          "2025-07-22T00:00:00",
          "2025-07-23T00:00:00",
          "2025-07-24T00:00:00",
          "2025-07-25T00:00:00",
          "2025-07-28T00:00:00",
          "2025-07-29T00:00:00"
         ],
         "xaxis": "x",
         "y": {
          "bdata": "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",
          "dtype": "f8"
         },
         "yaxis": "y"
        },
        {
         "hovertemplate": "Ticker=TSLA<br>Date=%{x}<br>Close=%{y}<extra></extra>",
         "legendgroup": "TSLA",
         "line": {
          "color": "#FFA15A",
          "dash": "solid"
         },
         "marker": {
          "symbol": "circle"
         },
         "mode": "lines",
         "name": "TSLA",
         "showlegend": true,
         "type": "scattergl",
         "x": [
          "2024-07-01T00:00:00",
          "2024-07-02T00:00:00",
          "2024-07-03T00:00:00",
          "2024-07-05T00:00:00",
          "2024-07-08T00:00:00",
          "2024-07-09T00:00:00",
          "2024-07-10T00:00:00",
          "2024-07-11T00:00:00",
          "2024-07-12T00:00:00",
          "2024-07-15T00:00:00",
          "2024-07-16T00:00:00",
          "2024-07-17T00:00:00",
          "2024-07-18T00:00:00",
          "2024-07-19T00:00:00",
          "2024-07-22T00:00:00",
          "2024-07-23T00:00:00",
          "2024-07-24T00:00:00",
          "2024-07-25T00:00:00",
          "2024-07-26T00:00:00",
          "2024-07-29T00:00:00",
          "2024-07-30T00:00:00",
          "2024-07-31T00:00:00",
          "2024-08-01T00:00:00",
          "2024-08-02T00:00:00",
          "2024-08-05T00:00:00",
          "2024-08-06T00:00:00",
          "2024-08-07T00:00:00",
          "2024-08-08T00:00:00",
          "2024-08-09T00:00:00",
          "2024-08-12T00:00:00",
          "2024-08-13T00:00:00",
          "2024-08-14T00:00:00",
          "2024-08-15T00:00:00",
          "2024-08-16T00:00:00",
          "2024-08-19T00:00:00",
          "2024-08-20T00:00:00",
          "2024-08-21T00:00:00",
          "2024-08-22T00:00:00",
          "2024-08-23T00:00:00",
          "2024-08-26T00:00:00",
          "2024-08-27T00:00:00",
          "2024-08-28T00:00:00",
          "2024-08-29T00:00:00",
          "2024-08-30T00:00:00",
          "2024-09-03T00:00:00",
          "2024-09-04T00:00:00",
          "2024-09-05T00:00:00",
          "2024-09-06T00:00:00",
          "2024-09-09T00:00:00",
          "2024-09-10T00:00:00",
          "2024-09-11T00:00:00",
          "2024-09-12T00:00:00",
          "2024-09-13T00:00:00",
          "2024-09-16T00:00:00",
          "2024-09-17T00:00:00",
          "2024-09-18T00:00:00",
          "2024-09-19T00:00:00",
          "2024-09-20T00:00:00",
          "2024-09-23T00:00:00",
          "2024-09-24T00:00:00",
          "2024-09-25T00:00:00",
          "2024-09-26T00:00:00",
          "2024-09-27T00:00:00",
          "2024-09-30T00:00:00",
          "2024-10-01T00:00:00",
          "2024-10-02T00:00:00",
          "2024-10-03T00:00:00",
          "2024-10-04T00:00:00",
          "2024-10-07T00:00:00",
          "2024-10-08T00:00:00",
          "2024-10-09T00:00:00",
          "2024-10-10T00:00:00",
          "2024-10-11T00:00:00",
          "2024-10-14T00:00:00",
          "2024-10-15T00:00:00",
          "2024-10-16T00:00:00",
          "2024-10-17T00:00:00",
          "2024-10-18T00:00:00",
          "2024-10-21T00:00:00",
          "2024-10-22T00:00:00",
          "2024-10-23T00:00:00",
          "2024-10-24T00:00:00",
          "2024-10-25T00:00:00",
          "2024-10-28T00:00:00",
          "2024-10-29T00:00:00",
          "2024-10-30T00:00:00",
          "2024-10-31T00:00:00",
          "2024-11-01T00:00:00",
          "2024-11-04T00:00:00",
          "2024-11-05T00:00:00",
          "2024-11-06T00:00:00",
          "2024-11-07T00:00:00",
          "2024-11-08T00:00:00",
          "2024-11-11T00:00:00",
          "2024-11-12T00:00:00",
          "2024-11-13T00:00:00",
          "2024-11-14T00:00:00",
          "2024-11-15T00:00:00",
          "2024-11-18T00:00:00",
          "2024-11-19T00:00:00",
          "2024-11-20T00:00:00",
          "2024-11-21T00:00:00",
          "2024-11-22T00:00:00",
          "2024-11-25T00:00:00",
          "2024-11-26T00:00:00",
          "2024-11-27T00:00:00",
          "2024-11-29T00:00:00",
          "2024-12-02T00:00:00",
          "2024-12-03T00:00:00",
          "2024-12-04T00:00:00",
          "2024-12-05T00:00:00",
          "2024-12-06T00:00:00",
          "2024-12-09T00:00:00",
          "2024-12-10T00:00:00",
          "2024-12-11T00:00:00",
          "2024-12-12T00:00:00",
          "2024-12-13T00:00:00",
          "2024-12-16T00:00:00",
          "2024-12-17T00:00:00",
          "2024-12-18T00:00:00",
          "2024-12-19T00:00:00",
          "2024-12-20T00:00:00",
          "2024-12-23T00:00:00",
          "2024-12-24T00:00:00",
          "2024-12-26T00:00:00",
          "2024-12-27T00:00:00",
          "2024-12-30T00:00:00",
          "2024-12-31T00:00:00",
          "2025-01-02T00:00:00",
          "2025-01-03T00:00:00",
          "2025-01-06T00:00:00",
          "2025-01-07T00:00:00",
          "2025-01-08T00:00:00",
          "2025-01-10T00:00:00",
          "2025-01-13T00:00:00",
          "2025-01-14T00:00:00",
          "2025-01-15T00:00:00",
          "2025-01-16T00:00:00",
          "2025-01-17T00:00:00",
          "2025-01-21T00:00:00",
          "2025-01-22T00:00:00",
          "2025-01-23T00:00:00",
          "2025-01-24T00:00:00",
          "2025-01-27T00:00:00",
          "2025-01-28T00:00:00",
          "2025-01-29T00:00:00",
          "2025-01-30T00:00:00",
          "2025-01-31T00:00:00",
          "2025-02-03T00:00:00",
          "2025-02-04T00:00:00",
          "2025-02-05T00:00:00",
          "2025-02-06T00:00:00",
          "2025-02-07T00:00:00",
          "2025-02-10T00:00:00",
          "2025-02-11T00:00:00",
          "2025-02-12T00:00:00",
          "2025-02-13T00:00:00",
          "2025-02-14T00:00:00",
          "2025-02-18T00:00:00",
          "2025-02-19T00:00:00",
          "2025-02-20T00:00:00",
          "2025-02-21T00:00:00",
          "2025-02-24T00:00:00",
          "2025-02-25T00:00:00",
          "2025-02-26T00:00:00",
          "2025-02-27T00:00:00",
          "2025-02-28T00:00:00",
          "2025-03-03T00:00:00",
          "2025-03-04T00:00:00",
          "2025-03-05T00:00:00",
          "2025-03-06T00:00:00",
          "2025-03-07T00:00:00",
          "2025-03-10T00:00:00",
          "2025-03-11T00:00:00",
          "2025-03-12T00:00:00",
          "2025-03-13T00:00:00",
          "2025-03-14T00:00:00",
          "2025-03-17T00:00:00",
          "2025-03-18T00:00:00",
          "2025-03-19T00:00:00",
          "2025-03-20T00:00:00",
          "2025-03-21T00:00:00",
          "2025-03-24T00:00:00",
          "2025-03-25T00:00:00",
          "2025-03-26T00:00:00",
          "2025-03-27T00:00:00",
          "2025-03-28T00:00:00",
          "2025-03-31T00:00:00",
          "2025-04-01T00:00:00",
          "2025-04-02T00:00:00",
          "2025-04-03T00:00:00",
          "2025-04-04T00:00:00",
          "2025-04-07T00:00:00",
          "2025-04-08T00:00:00",
          "2025-04-09T00:00:00",
          "2025-04-10T00:00:00",
          "2025-04-11T00:00:00",
          "2025-04-14T00:00:00",
          "2025-04-15T00:00:00",
          "2025-04-16T00:00:00",
          "2025-04-17T00:00:00",
          "2025-04-21T00:00:00",
          "2025-04-22T00:00:00",
          "2025-04-23T00:00:00",
          "2025-04-24T00:00:00",
          "2025-04-25T00:00:00",
          "2025-04-28T00:00:00",
          "2025-04-29T00:00:00",
          "2025-04-30T00:00:00",
          "2025-05-01T00:00:00",
          "2025-05-02T00:00:00",
          "2025-05-05T00:00:00",
          "2025-05-06T00:00:00",
          "2025-05-07T00:00:00",
          "2025-05-08T00:00:00",
          "2025-05-09T00:00:00",
          "2025-05-12T00:00:00",
          "2025-05-13T00:00:00",
          "2025-05-14T00:00:00",
          "2025-05-15T00:00:00",
          "2025-05-16T00:00:00",
          "2025-05-19T00:00:00",
          "2025-05-20T00:00:00",
          "2025-05-21T00:00:00",
          "2025-05-22T00:00:00",
          "2025-05-23T00:00:00",
          "2025-05-27T00:00:00",
          "2025-05-28T00:00:00",
          "2025-05-29T00:00:00",
          "2025-05-30T00:00:00",
          "2025-06-02T00:00:00",
          "2025-06-03T00:00:00",
          "2025-06-04T00:00:00",
          "2025-06-05T00:00:00",
          "2025-06-06T00:00:00",
          "2025-06-09T00:00:00",
          "2025-06-10T00:00:00",
          "2025-06-11T00:00:00",
          "2025-06-12T00:00:00",
          "2025-06-13T00:00:00",
          "2025-06-16T00:00:00",
          "2025-06-17T00:00:00",
          "2025-06-18T00:00:00",
          "2025-06-20T00:00:00",
          "2025-06-23T00:00:00",
          "2025-06-24T00:00:00",
          "2025-06-25T00:00:00",
          "2025-06-26T00:00:00",
          "2025-06-27T00:00:00",
          "2025-06-30T00:00:00",
          "2025-07-01T00:00:00",
          "2025-07-02T00:00:00",
          "2025-07-03T00:00:00",
          "2025-07-07T00:00:00",
          "2025-07-08T00:00:00",
          "2025-07-09T00:00:00",
          "2025-07-10T00:00:00",
          "2025-07-11T00:00:00",
          "2025-07-14T00:00:00",
          "2025-07-15T00:00:00",
          "2025-07-16T00:00:00",
          "2025-07-17T00:00:00",
          "2025-07-18T00:00:00",
          "2025-07-21T00:00:00",
          "2025-07-22T00:00:00",
          "2025-07-23T00:00:00",
          "2025-07-24T00:00:00",
          "2025-07-25T00:00:00",
          "2025-07-28T00:00:00",
          "2025-07-29T00:00:00"
         ],
         "xaxis": "x",
         "y": {
          "bdata": "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",
          "dtype": "f8"
         },
         "yaxis": "y"
        }
       ],
       "layout": {
        "legend": {
         "title": {
          "text": "Ticker"
         },
         "tracegroupgap": 0
        },
        "template": {
         "data": {
          "bar": [
           {
            "error_x": {
             "color": "#2a3f5f"
            },
            "error_y": {
             "color": "#2a3f5f"
            },
            "marker": {
             "line": {
              "color": "#E5ECF6",
              "width": 0.5
             },
             "pattern": {
              "fillmode": "overlay",
              "size": 10,
              "solidity": 0.2
             }
            },
            "type": "bar"
           }
          ],
          "barpolar": [
           {
            "marker": {
             "line": {
              "color": "#E5ECF6",
              "width": 0.5
             },
             "pattern": {
              "fillmode": "overlay",
              "size": 10,
              "solidity": 0.2
             }
            },
            "type": "barpolar"
           }
          ],
          "carpet": [
           {
            "aaxis": {
             "endlinecolor": "#2a3f5f",
             "gridcolor": "white",
             "linecolor": "white",
             "minorgridcolor": "white",
             "startlinecolor": "#2a3f5f"
            },
            "baxis": {
             "endlinecolor": "#2a3f5f",
             "gridcolor": "white",
             "linecolor": "white",
             "minorgridcolor": "white",
             "startlinecolor": "#2a3f5f"
            },
            "type": "carpet"
           }
          ],
          "choropleth": [
           {
            "colorbar": {
             "outlinewidth": 0,
             "ticks": ""
            },
            "type": "choropleth"
           }
          ],
          "contour": [
           {
            "colorbar": {
             "outlinewidth": 0,
             "ticks": ""
            },
            "colorscale": [
             [
              0,
              "#0d0887"
             ],
             [
              0.1111111111111111,
              "#46039f"
             ],
             [
              0.2222222222222222,
              "#7201a8"
             ],
             [
              0.3333333333333333,
              "#9c179e"
             ],
             [
              0.4444444444444444,
              "#bd3786"
             ],
             [
              0.5555555555555556,
              "#d8576b"
             ],
             [
              0.6666666666666666,
              "#ed7953"
             ],
             [
              0.7777777777777778,
              "#fb9f3a"
             ],
             [
              0.8888888888888888,
              "#fdca26"
             ],
             [
              1,
              "#f0f921"
             ]
            ],
            "type": "contour"
           }
          ],
          "contourcarpet": [
           {
            "colorbar": {
             "outlinewidth": 0,
             "ticks": ""
            },
            "type": "contourcarpet"
           }
          ],
          "heatmap": [
           {
            "colorbar": {
             "outlinewidth": 0,
             "ticks": ""
            },
            "colorscale": [
             [
              0,
              "#0d0887"
             ],
             [
              0.1111111111111111,
              "#46039f"
             ],
             [
              0.2222222222222222,
              "#7201a8"
             ],
             [
              0.3333333333333333,
              "#9c179e"
             ],
             [
              0.4444444444444444,
              "#bd3786"
             ],
             [
              0.5555555555555556,
              "#d8576b"
             ],
             [
              0.6666666666666666,
              "#ed7953"
             ],
             [
              0.7777777777777778,
              "#fb9f3a"
             ],
             [
              0.8888888888888888,
              "#fdca26"
             ],
             [
              1,
              "#f0f921"
             ]
            ],
            "type": "heatmap"
           }
          ],
          "histogram": [
           {
            "marker": {
             "pattern": {
              "fillmode": "overlay",
              "size": 10,
              "solidity": 0.2
             }
            },
            "type": "histogram"
           }
          ],
          "histogram2d": [
           {
            "colorbar": {
             "outlinewidth": 0,
             "ticks": ""
            },
            "colorscale": [
             [
              0,
              "#0d0887"
             ],
             [
              0.1111111111111111,
              "#46039f"
             ],
             [
              0.2222222222222222,
              "#7201a8"
             ],
             [
              0.3333333333333333,
              "#9c179e"
             ],
             [
              0.4444444444444444,
              "#bd3786"
             ],
             [
              0.5555555555555556,
              "#d8576b"
             ],
             [
              0.6666666666666666,
              "#ed7953"
             ],
             [
              0.7777777777777778,
              "#fb9f3a"
             ],
             [
              0.8888888888888888,
              "#fdca26"
             ],
             [
              1,
              "#f0f921"
             ]
            ],
            "type": "histogram2d"
           }
          ],
          "histogram2dcontour": [
           {
            "colorbar": {
             "outlinewidth": 0,
             "ticks": ""
            },
            "colorscale": [
             [
              0,
              "#0d0887"
             ],
             [
              0.1111111111111111,
              "#46039f"
             ],
             [
              0.2222222222222222,
              "#7201a8"
             ],
             [
              0.3333333333333333,
              "#9c179e"
             ],
             [
              0.4444444444444444,
              "#bd3786"
             ],
             [
              0.5555555555555556,
              "#d8576b"
             ],
             [
              0.6666666666666666,
              "#ed7953"
             ],
             [
              0.7777777777777778,
              "#fb9f3a"
             ],
             [
              0.8888888888888888,
              "#fdca26"
             ],
             [
              1,
              "#f0f921"
             ]
            ],
            "type": "histogram2dcontour"
           }
          ],
          "mesh3d": [
           {
            "colorbar": {
             "outlinewidth": 0,
             "ticks": ""
            },
            "type": "mesh3d"
           }
          ],
          "parcoords": [
           {
            "line": {
             "colorbar": {
              "outlinewidth": 0,
              "ticks": ""
             }
            },
            "type": "parcoords"
           }
          ],
          "pie": [
           {
            "automargin": true,
            "type": "pie"
           }
          ],
          "scatter": [
           {
            "fillpattern": {
             "fillmode": "overlay",
             "size": 10,
             "solidity": 0.2
            },
            "type": "scatter"
           }
          ],
          "scatter3d": [
           {
            "line": {
             "colorbar": {
              "outlinewidth": 0,
              "ticks": ""
             }
            },
            "marker": {
             "colorbar": {
              "outlinewidth": 0,
              "ticks": ""
             }
            },
            "type": "scatter3d"
           }
          ],
          "scattercarpet": [
           {
            "marker": {
             "colorbar": {
              "outlinewidth": 0,
              "ticks": ""
             }
            },
            "type": "scattercarpet"
           }
          ],
          "scattergeo": [
           {
            "marker": {
             "colorbar": {
              "outlinewidth": 0,
              "ticks": ""
             }
            },
            "type": "scattergeo"
           }
          ],
          "scattergl": [
           {
            "marker": {
             "colorbar": {
              "outlinewidth": 0,
              "ticks": ""
             }
            },
            "type": "scattergl"
           }
          ],
          "scattermap": [
           {
            "marker": {
             "colorbar": {
              "outlinewidth": 0,
              "ticks": ""
             }
            },
            "type": "scattermap"
           }
          ],
          "scattermapbox": [
           {
            "marker": {
             "colorbar": {
              "outlinewidth": 0,
              "ticks": ""
             }
            },
            "type": "scattermapbox"
           }
          ],
          "scatterpolar": [
           {
            "marker": {
             "colorbar": {
              "outlinewidth": 0,
              "ticks": ""
             }
            },
            "type": "scatterpolar"
           }
          ],
          "scatterpolargl": [
           {
            "marker": {
             "colorbar": {
              "outlinewidth": 0,
              "ticks": ""
             }
            },
            "type": "scatterpolargl"
           }
          ],
          "scatterternary": [
           {
            "marker": {
             "colorbar": {
              "outlinewidth": 0,
              "ticks": ""
             }
            },
            "type": "scatterternary"
           }
          ],
          "surface": [
           {
            "colorbar": {
             "outlinewidth": 0,
             "ticks": ""
            },
            "colorscale": [
             [
              0,
              "#0d0887"
             ],
             [
              0.1111111111111111,
              "#46039f"
             ],
             [
              0.2222222222222222,
              "#7201a8"
             ],
             [
              0.3333333333333333,
              "#9c179e"
             ],
             [
              0.4444444444444444,
              "#bd3786"
             ],
             [
              0.5555555555555556,
              "#d8576b"
             ],
             [
              0.6666666666666666,
              "#ed7953"
             ],
             [
              0.7777777777777778,
              "#fb9f3a"
             ],
             [
              0.8888888888888888,
              "#fdca26"
             ],
             [
              1,
              "#f0f921"
             ]
            ],
            "type": "surface"
           }
          ],
          "table": [
           {
            "cells": {
             "fill": {
              "color": "#EBF0F8"
             },
             "line": {
              "color": "white"
             }
            },
            "header": {
             "fill": {
              "color": "#C8D4E3"
             },
             "line": {
              "color": "white"
             }
            },
            "type": "table"
           }
          ]
         },
         "layout": {
          "annotationdefaults": {
           "arrowcolor": "#2a3f5f",
           "arrowhead": 0,
           "arrowwidth": 1
          },
          "autotypenumbers": "strict",
          "coloraxis": {
           "colorbar": {
            "outlinewidth": 0,
            "ticks": ""
           }
          },
          "colorscale": {
           "diverging": [
            [
             0,
             "#8e0152"
            ],
            [
             0.1,
             "#c51b7d"
            ],
            [
             0.2,
             "#de77ae"
            ],
            [
             0.3,
             "#f1b6da"
            ],
            [
             0.4,
             "#fde0ef"
            ],
            [
             0.5,
             "#f7f7f7"
            ],
            [
             0.6,
             "#e6f5d0"
            ],
            [
             0.7,
             "#b8e186"
            ],
            [
             0.8,
             "#7fbc41"
            ],
            [
             0.9,
             "#4d9221"
            ],
            [
             1,
             "#276419"
            ]
           ],
           "sequential": [
            [
             0,
             "#0d0887"
            ],
            [
             0.1111111111111111,
             "#46039f"
            ],
            [
             0.2222222222222222,
             "#7201a8"
            ],
            [
             0.3333333333333333,
             "#9c179e"
            ],
            [
             0.4444444444444444,
             "#bd3786"
            ],
            [
             0.5555555555555556,
             "#d8576b"
            ],
            [
             0.6666666666666666,
             "#ed7953"
            ],
            [
             0.7777777777777778,
             "#fb9f3a"
            ],
            [
             0.8888888888888888,
             "#fdca26"
            ],
            [
             1,
             "#f0f921"
            ]
           ],
           "sequentialminus": [
            [
             0,
             "#0d0887"
            ],
            [
             0.1111111111111111,
             "#46039f"
            ],
            [
             0.2222222222222222,
             "#7201a8"
            ],
            [
             0.3333333333333333,
             "#9c179e"
            ],
            [
             0.4444444444444444,
             "#bd3786"
            ],
            [
             0.5555555555555556,
             "#d8576b"
            ],
            [
             0.6666666666666666,
             "#ed7953"
            ],
            [
             0.7777777777777778,
             "#fb9f3a"
            ],
            [
             0.8888888888888888,
             "#fdca26"
            ],
            [
             1,
             "#f0f921"
            ]
           ]
          },
          "colorway": [
           "#636efa",
           "#EF553B",
           "#00cc96",
           "#ab63fa",
           "#FFA15A",
           "#19d3f3",
           "#FF6692",
           "#B6E880",
           "#FF97FF",
           "#FECB52"
          ],
          "font": {
           "color": "#2a3f5f"
          },
          "geo": {
           "bgcolor": "white",
           "lakecolor": "white",
           "landcolor": "#E5ECF6",
           "showlakes": true,
           "showland": true,
           "subunitcolor": "white"
          },
          "hoverlabel": {
           "align": "left"
          },
          "hovermode": "closest",
          "mapbox": {
           "style": "light"
          },
          "paper_bgcolor": "white",
          "plot_bgcolor": "#E5ECF6",
          "polar": {
           "angularaxis": {
            "gridcolor": "white",
            "linecolor": "white",
            "ticks": ""
           },
           "bgcolor": "#E5ECF6",
           "radialaxis": {
            "gridcolor": "white",
            "linecolor": "white",
            "ticks": ""
           }
          },
          "scene": {
           "xaxis": {
            "backgroundcolor": "#E5ECF6",
            "gridcolor": "white",
            "gridwidth": 2,
            "linecolor": "white",
            "showbackground": true,
            "ticks": "",
            "zerolinecolor": "white"
           },
           "yaxis": {
            "backgroundcolor": "#E5ECF6",
            "gridcolor": "white",
            "gridwidth": 2,
            "linecolor": "white",
            "showbackground": true,
            "ticks": "",
            "zerolinecolor": "white"
           },
           "zaxis": {
            "backgroundcolor": "#E5ECF6",
            "gridcolor": "white",
            "gridwidth": 2,
            "linecolor": "white",
            "showbackground": true,
            "ticks": "",
            "zerolinecolor": "white"
           }
          },
          "shapedefaults": {
           "line": {
            "color": "#2a3f5f"
           }
          },
          "ternary": {
           "aaxis": {
            "gridcolor": "white",
            "linecolor": "white",
            "ticks": ""
           },
           "baxis": {
            "gridcolor": "white",
            "linecolor": "white",
            "ticks": ""
           },
           "bgcolor": "#E5ECF6",
           "caxis": {
            "gridcolor": "white",
            "linecolor": "white",
            "ticks": ""
           }
          },
          "title": {
           "x": 0.05
          },
          "xaxis": {
           "automargin": true,
           "gridcolor": "white",
           "linecolor": "white",
           "ticks": "",
           "title": {
            "standoff": 15
           },
           "zerolinecolor": "white",
           "zerolinewidth": 2
          },
          "yaxis": {
           "automargin": true,
           "gridcolor": "white",
           "linecolor": "white",
           "ticks": "",
           "title": {
            "standoff": 15
           },
           "zerolinecolor": "white",
           "zerolinewidth": 2
          }
         }
        },
        "title": {
         "text": "Closing Prices: AAPL, MSFT, GOOGL, AMZN, TSLA"
        },
        "xaxis": {
         "anchor": "y",
         "domain": [
          0,
          1
         ],
         "title": {
          "text": "Date"
         }
        },
        "yaxis": {
         "anchor": "x",
         "domain": [
          0,
          1
         ],
         "title": {
          "text": "Close"
         }
        }
       }
      },
      "image/png": "[encoded data removed]"
     },
     "metadata": {},
     "output_type": "display_data"
    },
    {
     "name": "stdout",
     "output_type": "stream",
     "text": [
      "✅ Returns shape: (269, 5)\n",
      "Correlation matrix:\n",
      " Ticker      AAPL      AMZN     GOOGL      MSFT      TSLA\n",
      "Ticker                                                  \n",
      "AAPL    1.000000  0.592498  0.513477  0.583037  0.494097\n",
      "AMZN    0.592498  1.000000  0.655264  0.714081  0.538157\n",
      "GOOGL   0.513477  0.655264  1.000000  0.582648  0.532375\n",
      "MSFT    0.583037  0.714081  0.582648  1.000000  0.484058\n",
      "TSLA    0.494097  0.538157  0.532375  0.484058  1.000000\n"
     ]
    },
    {
     "data": {
      "application/vnd.plotly.v1+json": {
       "config": {
        "plotlyServerURL": "https://plot.ly"
       },
       "data": [
        {
         "coloraxis": "coloraxis",
         "hovertemplate": "Ticker: %{x}<br>Ticker: %{y}<br>Correlation: %{z}<extra></extra>",
         "name": "0",
         "texttemplate": "%{z}",
         "type": "heatmap",
         "x": [
          "AAPL",
          "AMZN",
          "GOOGL",
          "MSFT",
          "TSLA"
         ],
         "xaxis": "x",
         "y": [
          "AAPL",
          "AMZN",
          "GOOGL",
          "MSFT",
          "TSLA"
         ],
         "yaxis": "y",
         "z": {
          "bdata": "AAAAAAAA8D+cVgstv/XiPwravU1nbuA/JTEVcT2o4j8H96BsSJ/fP5xWCy2/9eI/AAAAAAAA8D//KFRq7PfkP5BbQ0nA2eY/kbVXQZU44T8K2r1NZ27gP/8oVGrs9+Q/AAAAAAAA8D/NQaVdDaXiPxJ084o2CeE/JTEVcT2o4j+QW0NJwNnmP81BpV0NpeI/AAAAAAAA8D/Du1uRzfrePwf3oGxIn98/kbVXQZU44T8SdPOKNgnhP8O7W5HN+t4/AAAAAAAA8D8=",
          "dtype": "f8",
          "shape": "5, 5"
         }
        }
       ],
       "layout": {
        "coloraxis": {
         "colorbar": {
          "title": {
           "text": "Correlation"
          }
         },
         "colorscale": [
          [
           0,
           "#0d0887"
          ],
          [
           0.1111111111111111,
           "#46039f"
          ],
          [
           0.2222222222222222,
           "#7201a8"
          ],
          [
           0.3333333333333333,
           "#9c179e"
          ],
          [
           0.4444444444444444,
           "#bd3786"
          ],
          [
           0.5555555555555556,
           "#d8576b"
          ],
          [
           0.6666666666666666,
           "#ed7953"
          ],
          [
           0.7777777777777778,
           "#fb9f3a"
          ],
          [
           0.8888888888888888,
           "#fdca26"
          ],
          [
           1,
           "#f0f921"
          ]
         ]
        },
        "template": {
         "data": {
          "bar": [
           {
            "error_x": {
             "color": "#2a3f5f"
            },
            "error_y": {
             "color": "#2a3f5f"
            },
            "marker": {
             "line": {
              "color": "#E5ECF6",
              "width": 0.5
             },
             "pattern": {
              "fillmode": "overlay",
              "size": 10,
              "solidity": 0.2
             }
            },
            "type": "bar"
           }
          ],
          "barpolar": [
           {
            "marker": {
             "line": {
              "color": "#E5ECF6",
              "width": 0.5
             },
             "pattern": {
              "fillmode": "overlay",
              "size": 10,
              "solidity": 0.2
             }
            },
            "type": "barpolar"
           }
          ],
          "carpet": [
           {
            "aaxis": {
             "endlinecolor": "#2a3f5f",
             "gridcolor": "white",
             "linecolor": "white",
             "minorgridcolor": "white",
             "startlinecolor": "#2a3f5f"
            },
            "baxis": {
             "endlinecolor": "#2a3f5f",
             "gridcolor": "white",
             "linecolor": "white",
             "minorgridcolor": "white",
             "startlinecolor": "#2a3f5f"
            },
            "type": "carpet"
           }
          ],
          "choropleth": [
           {
            "colorbar": {
             "outlinewidth": 0,
             "ticks": ""
            },
            "type": "choropleth"
           }
          ],
          "contour": [
           {
            "colorbar": {
             "outlinewidth": 0,
             "ticks": ""
            },
            "colorscale": [
             [
              0,
              "#0d0887"
             ],
             [
              0.1111111111111111,
              "#46039f"
             ],
             [
              0.2222222222222222,
              "#7201a8"
             ],
             [
              0.3333333333333333,
              "#9c179e"
             ],
             [
              0.4444444444444444,
              "#bd3786"
             ],
             [
              0.5555555555555556,
              "#d8576b"
             ],
             [
              0.6666666666666666,
              "#ed7953"
             ],
             [
              0.7777777777777778,
              "#fb9f3a"
             ],
             [
              0.8888888888888888,
              "#fdca26"
             ],
             [
              1,
              "#f0f921"
             ]
            ],
            "type": "contour"
           }
          ],
          "contourcarpet": [
           {
            "colorbar": {
             "outlinewidth": 0,
             "ticks": ""
            },
            "type": "contourcarpet"
           }
          ],
          "heatmap": [
           {
            "colorbar": {
             "outlinewidth": 0,
             "ticks": ""
            },
            "colorscale": [
             [
              0,
              "#0d0887"
             ],
             [
              0.1111111111111111,
              "#46039f"
             ],
             [
              0.2222222222222222,
              "#7201a8"
             ],
             [
              0.3333333333333333,
              "#9c179e"
             ],
             [
              0.4444444444444444,
              "#bd3786"
             ],
             [
              0.5555555555555556,
              "#d8576b"
             ],
             [
              0.6666666666666666,
              "#ed7953"
             ],
             [
              0.7777777777777778,
              "#fb9f3a"
             ],
             [
              0.8888888888888888,
              "#fdca26"
             ],
             [
              1,
              "#f0f921"
             ]
            ],
            "type": "heatmap"
           }
          ],
          "histogram": [
           {
            "marker": {
             "pattern": {
              "fillmode": "overlay",
              "size": 10,
              "solidity": 0.2
             }
            },
            "type": "histogram"
           }
          ],
          "histogram2d": [
           {
            "colorbar": {
             "outlinewidth": 0,
             "ticks": ""
            },
            "colorscale": [
             [
              0,
              "#0d0887"
             ],
             [
              0.1111111111111111,
              "#46039f"
             ],
             [
              0.2222222222222222,
              "#7201a8"
             ],
             [
              0.3333333333333333,
              "#9c179e"
             ],
             [
              0.4444444444444444,
              "#bd3786"
             ],
             [
              0.5555555555555556,
              "#d8576b"
             ],
             [
              0.6666666666666666,
              "#ed7953"
             ],
             [
              0.7777777777777778,
              "#fb9f3a"
             ],
             [
              0.8888888888888888,
              "#fdca26"
             ],
             [
              1,
              "#f0f921"
             ]
            ],
            "type": "histogram2d"
           }
          ],
          "histogram2dcontour": [
           {
            "colorbar": {
             "outlinewidth": 0,
             "ticks": ""
            },
            "colorscale": [
             [
              0,
              "#0d0887"
             ],
             [
              0.1111111111111111,
              "#46039f"
             ],
             [
              0.2222222222222222,
              "#7201a8"
             ],
             [
              0.3333333333333333,
              "#9c179e"
             ],
             [
              0.4444444444444444,
              "#bd3786"
             ],
             [
              0.5555555555555556,
              "#d8576b"
             ],
             [
              0.6666666666666666,
              "#ed7953"
             ],
             [
              0.7777777777777778,
              "#fb9f3a"
             ],
             [
              0.8888888888888888,
              "#fdca26"
             ],
             [
              1,
              "#f0f921"
             ]
            ],
            "type": "histogram2dcontour"
           }
          ],
          "mesh3d": [
           {
            "colorbar": {
             "outlinewidth": 0,
             "ticks": ""
            },
            "type": "mesh3d"
           }
          ],
          "parcoords": [
           {
            "line": {
             "colorbar": {
              "outlinewidth": 0,
              "ticks": ""
             }
            },
            "type": "parcoords"
           }
          ],
          "pie": [
           {
            "automargin": true,
            "type": "pie"
           }
          ],
          "scatter": [
           {
            "fillpattern": {
             "fillmode": "overlay",
             "size": 10,
             "solidity": 0.2
            },
            "type": "scatter"
           }
          ],
          "scatter3d": [
           {
            "line": {
             "colorbar": {
              "outlinewidth": 0,
              "ticks": ""
             }
            },
            "marker": {
             "colorbar": {
              "outlinewidth": 0,
              "ticks": ""
             }
            },
            "type": "scatter3d"
           }
          ],
          "scattercarpet": [
           {
            "marker": {
             "colorbar": {
              "outlinewidth": 0,
              "ticks": ""
             }
            },
            "type": "scattercarpet"
           }
          ],
          "scattergeo": [
           {
            "marker": {
             "colorbar": {
              "outlinewidth": 0,
              "ticks": ""
             }
            },
            "type": "scattergeo"
           }
          ],
          "scattergl": [
           {
            "marker": {
             "colorbar": {
              "outlinewidth": 0,
              "ticks": ""
             }
            },
            "type": "scattergl"
           }
          ],
          "scattermap": [
           {
            "marker": {
             "colorbar": {
              "outlinewidth": 0,
              "ticks": ""
             }
            },
            "type": "scattermap"
           }
          ],
          "scattermapbox": [
           {
            "marker": {
             "colorbar": {
              "outlinewidth": 0,
              "ticks": ""
             }
            },
            "type": "scattermapbox"
           }
          ],
          "scatterpolar": [
           {
            "marker": {
             "colorbar": {
              "outlinewidth": 0,
              "ticks": ""
             }
            },
            "type": "scatterpolar"
           }
          ],
          "scatterpolargl": [
           {
            "marker": {
             "colorbar": {
              "outlinewidth": 0,
              "ticks": ""
             }
            },
            "type": "scatterpolargl"
           }
          ],
          "scatterternary": [
           {
            "marker": {
             "colorbar": {
              "outlinewidth": 0,
              "ticks": ""
             }
            },
            "type": "scatterternary"
           }
          ],
          "surface": [
           {
            "colorbar": {
             "outlinewidth": 0,
             "ticks": ""
            },
            "colorscale": [
             [
              0,
              "#0d0887"
             ],
             [
              0.1111111111111111,
              "#46039f"
             ],
             [
              0.2222222222222222,
              "#7201a8"
             ],
             [
              0.3333333333333333,
              "#9c179e"
             ],
             [
              0.4444444444444444,
              "#bd3786"
             ],
             [
              0.5555555555555556,
              "#d8576b"
             ],
             [
              0.6666666666666666,
              "#ed7953"
             ],
             [
              0.7777777777777778,
              "#fb9f3a"
             ],
             [
              0.8888888888888888,
              "#fdca26"
             ],
             [
              1,
              "#f0f921"
             ]
            ],
            "type": "surface"
           }
          ],
          "table": [
           {
            "cells": {
             "fill": {
              "color": "#EBF0F8"
             },
             "line": {
              "color": "white"
             }
            },
            "header": {
             "fill": {
              "color": "#C8D4E3"
             },
             "line": {
              "color": "white"
             }
            },
            "type": "table"
           }
          ]
         },
         "layout": {
          "annotationdefaults": {
           "arrowcolor": "#2a3f5f",
           "arrowhead": 0,
           "arrowwidth": 1
          },
          "autotypenumbers": "strict",
          "coloraxis": {
           "colorbar": {
            "outlinewidth": 0,
            "ticks": ""
           }
          },
          "colorscale": {
           "diverging": [
            [
             0,
             "#8e0152"
            ],
            [
             0.1,
             "#c51b7d"
            ],
            [
             0.2,
             "#de77ae"
            ],
            [
             0.3,
             "#f1b6da"
            ],
            [
             0.4,
             "#fde0ef"
            ],
            [
             0.5,
             "#f7f7f7"
            ],
            [
             0.6,
             "#e6f5d0"
            ],
            [
             0.7,
             "#b8e186"
            ],
            [
             0.8,
             "#7fbc41"
            ],
            [
             0.9,
             "#4d9221"
            ],
            [
             1,
             "#276419"
            ]
           ],
           "sequential": [
            [
             0,
             "#0d0887"
            ],
            [
             0.1111111111111111,
             "#46039f"
            ],
            [
             0.2222222222222222,
             "#7201a8"
            ],
            [
             0.3333333333333333,
             "#9c179e"
            ],
            [
             0.4444444444444444,
             "#bd3786"
            ],
            [
             0.5555555555555556,
             "#d8576b"
            ],
            [
             0.6666666666666666,
             "#ed7953"
            ],
            [
             0.7777777777777778,
             "#fb9f3a"
            ],
            [
             0.8888888888888888,
             "#fdca26"
            ],
            [
             1,
             "#f0f921"
            ]
           ],
           "sequentialminus": [
            [
             0,
             "#0d0887"
            ],
            [
             0.1111111111111111,
             "#46039f"
            ],
            [
             0.2222222222222222,
             "#7201a8"
            ],
            [
             0.3333333333333333,
             "#9c179e"
            ],
            [
             0.4444444444444444,
             "#bd3786"
            ],
            [
             0.5555555555555556,
             "#d8576b"
            ],
            [
             0.6666666666666666,
             "#ed7953"
            ],
            [
             0.7777777777777778,
             "#fb9f3a"
            ],
            [
             0.8888888888888888,
             "#fdca26"
            ],
            [
             1,
             "#f0f921"
            ]
           ]
          },
          "colorway": [
           "#636efa",
           "#EF553B",
           "#00cc96",
           "#ab63fa",
           "#FFA15A",
           "#19d3f3",
           "#FF6692",
           "#B6E880",
           "#FF97FF",
           "#FECB52"
          ],
          "font": {
           "color": "#2a3f5f"
          },
          "geo": {
           "bgcolor": "white",
           "lakecolor": "white",
           "landcolor": "#E5ECF6",
           "showlakes": true,
           "showland": true,
           "subunitcolor": "white"
          },
          "hoverlabel": {
           "align": "left"
          },
          "hovermode": "closest",
          "mapbox": {
           "style": "light"
          },
          "paper_bgcolor": "white",
          "plot_bgcolor": "#E5ECF6",
          "polar": {
           "angularaxis": {
            "gridcolor": "white",
            "linecolor": "white",
            "ticks": ""
           },
           "bgcolor": "#E5ECF6",
           "radialaxis": {
            "gridcolor": "white",
            "linecolor": "white",
            "ticks": ""
           }
          },
          "scene": {
           "xaxis": {
            "backgroundcolor": "#E5ECF6",
            "gridcolor": "white",
            "gridwidth": 2,
            "linecolor": "white",
            "showbackground": true,
            "ticks": "",
            "zerolinecolor": "white"
           },
           "yaxis": {
            "backgroundcolor": "#E5ECF6",
            "gridcolor": "white",
            "gridwidth": 2,
            "linecolor": "white",
            "showbackground": true,
            "ticks": "",
            "zerolinecolor": "white"
           },
           "zaxis": {
            "backgroundcolor": "#E5ECF6",
            "gridcolor": "white",
            "gridwidth": 2,
            "linecolor": "white",
            "showbackground": true,
            "ticks": "",
            "zerolinecolor": "white"
           }
          },
          "shapedefaults": {
           "line": {
            "color": "#2a3f5f"
           }
          },
          "ternary": {
           "aaxis": {
            "gridcolor": "white",
            "linecolor": "white",
            "ticks": ""
           },
           "baxis": {
            "gridcolor": "white",
            "linecolor": "white",
            "ticks": ""
           },
           "bgcolor": "#E5ECF6",
           "caxis": {
            "gridcolor": "white",
            "linecolor": "white",
            "ticks": ""
           }
          },
          "title": {
           "x": 0.05
          },
          "xaxis": {
           "automargin": true,
           "gridcolor": "white",
           "linecolor": "white",
           "ticks": "",
           "title": {
            "standoff": 15
           },
           "zerolinecolor": "white",
           "zerolinewidth": 2
          },
          "yaxis": {
           "automargin": true,
           "gridcolor": "white",
           "linecolor": "white",
           "ticks": "",
           "title": {
            "standoff": 15
           },
           "zerolinecolor": "white",
           "zerolinewidth": 2
          }
         }
        },
        "title": {
         "text": "Correlation Matrix of Daily Returns"
        },
        "xaxis": {
         "anchor": "y",
         "domain": [
          0,
          1
         ],
         "title": {
          "text": "Ticker"
         }
        },
        "yaxis": {
         "anchor": "x",
         "autorange": "reversed",
         "domain": [
          0,
          1
         ],
         "title": {
          "text": "Ticker"
         }
        }
       }
      },
      "image/png": "[encoded data removed]"
     },
     "metadata": {},
     "output_type": "display_data"
    },
    {
     "name": "stdout",
     "output_type": "stream",
     "text": [
      "✅ heatmap.png saved in images/\n"
     ]
    }
   ],
   "source": [
    "# ─── Day 1: Fetch & Visualize Portfolio Data ───\n",
    "\n",
    "# 1) Imports\n",
    "import os\n",
    "import pandas as pd\n",
    "import yfinance as yf\n",
    "import plotly.express as px\n",
    "\n",
    "# 2) Download 1 year of daily closing prices for your 5 tickers\n",
    "tickers = [\"AAPL\", \"MSFT\", \"GOOGL\", \"AMZN\", \"TSLA\"]\n",
    "df = yf.download(\n",
    "    tickers,\n",
    "    start=\"2024-07-01\",\n",
    "    end=\"2025-07-30\",\n",
    "    auto_adjust=False,\n",
    "    progress=False\n",
    ")[\"Close\"]\n",
    "print(\"✅ Downloaded data; DF shape:\", df.shape)\n",
    "display(df.head())\n",
    "\n",
    "# 3) Save raw prices to CSV\n",
    "os.makedirs(\"data\", exist_ok=True)\n",
    "df.to_csv(\"data/close_prices.csv\", index=True)\n",
    "print(\"✅ Saved close_prices.csv to data/\")\n",
    "\n",
    "# 4) Plot closing-price time series\n",
    "df_long = df.reset_index().melt(\n",
    "    id_vars=\"Date\",\n",
    "    var_name=\"Ticker\",\n",
    "    value_name=\"Close\"\n",
    ")\n",
    "fig = px.line(\n",
    "    df_long,\n",
    "    x=\"Date\",\n",
    "    y=\"Close\",\n",
    "    color=\"Ticker\",\n",
    "    title=\"Closing Prices: AAPL, MSFT, GOOGL, AMZN, TSLA\"\n",
    ")\n",
    "fig.show()\n",
    "\n",
    "# 5) Clean & compute correlation matrix\n",
    "#    (back-fill & forward-fill to cover missing early data)\n",
    "df_clean = df.bfill().ffill().dropna()\n",
    "returns = df_clean.pct_change(fill_method=None).dropna()\n",
    "corr = returns.corr()\n",
    "print(\"✅ Returns shape:\", returns.shape)\n",
    "print(\"Correlation matrix:\\n\", corr)\n",
    "\n",
    "# 6) Plot & save heat-map of correlations\n",
    "os.makedirs(\"images\", exist_ok=True)\n",
    "fig2 = px.imshow(\n",
    "    corr,\n",
    "    text_auto=True,\n",
    "    aspect=\"auto\",\n",
    "    title=\"Correlation Matrix of Daily Returns\",\n",
    "    labels=dict(x=\"Ticker\", y=\"Ticker\", color=\"Correlation\")\n",
    ")\n",
    "fig2.write_image(\"../images/heatmap.png\", width=600, height=600)\n",
    "fig2.show()\n",
    "print(\"✅ heatmap.png saved in images/\")\n"
   ]
  }
 ],
 "metadata": {
  "kernelspec": {
   "display_name": "Python 3 (ipykernel)",
   "language": "python",
   "name": "python3"
  },
  "language_info": {
   "codemirror_mode": {
    "name": "ipython",
    "version": 3
   },
   "file_extension": ".py",
   "mimetype": "text/x-python",
   "name": "python",
   "nbconvert_exporter": "python",
   "pygments_lexer": "ipython3",
   "version": "3.13.5"
  }
 },
 "nbformat": 4,
 "nbformat_minor": 5
}
